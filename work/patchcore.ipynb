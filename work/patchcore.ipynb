{
 "cells": [
  {
   "cell_type": "code",
   "execution_count": 1,
   "id": "ea8dea72-434d-4c2f-bde9-5c565a35e13f",
   "metadata": {},
   "outputs": [],
   "source": [
    "import os\n",
    "import pathlib\n",
    "import site"
   ]
  },
  {
   "cell_type": "code",
   "execution_count": 2,
   "id": "a7bfd437-523c-4d71-84ab-b560edfd658e",
   "metadata": {},
   "outputs": [
    {
     "name": "stdout",
     "output_type": "stream",
     "text": [
      "To use wandb logger install it using `pip install wandb`\n"
     ]
    }
   ],
   "source": [
    "import logging\n",
    "import warnings\n",
    "\n",
    "from anomalib.utils.loggers import configure_logger, get_experiment_logger\n",
    "\n",
    "\n",
    "logger = logging.getLogger(\"anomalib\")\n",
    "configure_logger(level=\"ERROR\") # \"<DEBUG, INFO, WARNING, ERROR>\""
   ]
  },
  {
   "cell_type": "code",
   "execution_count": 3,
   "id": "7dc808fd-46d5-4bc4-9a4b-73fdc54d4ad2",
   "metadata": {},
   "outputs": [],
   "source": [
    "import cv2\n",
    "import numpy as np"
   ]
  },
  {
   "cell_type": "code",
   "execution_count": 4,
   "id": "d37b262c-1e0a-4030-b49a-e8379cccf6cd",
   "metadata": {},
   "outputs": [],
   "source": [
    "from pytorch_lightning import Trainer, seed_everything"
   ]
  },
  {
   "cell_type": "code",
   "execution_count": 5,
   "id": "0de5c649-31a5-4b29-9494-2c70449b918d",
   "metadata": {},
   "outputs": [],
   "source": [
    "from anomalib.config import get_configurable_parameters\n",
    "from anomalib.data import get_datamodule\n",
    "from anomalib.data.utils import TestSplitMode\n",
    "from anomalib.models import get_model\n",
    "from anomalib.utils.callbacks import LoadModelCallback, get_callbacks"
   ]
  },
  {
   "cell_type": "code",
   "execution_count": 6,
   "id": "761ccf54-3eb0-4c1d-bc81-de8186a7b82b",
   "metadata": {},
   "outputs": [],
   "source": [
    "\"\"\"\n",
    "Monkey Patch\n",
    " * FeatureExtractor\n",
    "\"\"\"\n",
    "from MyFeatureExtractor import FeatureExtractor\n",
    "import anomalib.models.patchcore.torch_model as ptm\n",
    "ptm.FeatureExtractor = FeatureExtractor"
   ]
  },
  {
   "cell_type": "code",
   "execution_count": 7,
   "id": "56441f67-7228-4ee0-a867-3cad07051209",
   "metadata": {},
   "outputs": [],
   "source": [
    "\"\"\"\n",
    "Monkey Patch\n",
    " * Visualizer\n",
    "\"\"\"\n",
    "from MyVisualizer import Visualizer\n",
    "import anomalib.utils.callbacks.visualizer.visualizer_base as vb\n",
    "vb.Visualizer = Visualizer"
   ]
  },
  {
   "cell_type": "markdown",
   "id": "4718198f-f472-4b18-98cf-c5d3dbc9d8ce",
   "metadata": {},
   "source": [
    "## Config"
   ]
  },
  {
   "cell_type": "code",
   "execution_count": 8,
   "id": "dc5381c7-39a7-4ee0-b355-01d9a9dcbb93",
   "metadata": {},
   "outputs": [
    {
     "data": {
      "text/plain": [
       "'/work/myenv/lib/python3.9/site-packages'"
      ]
     },
     "execution_count": 8,
     "metadata": {},
     "output_type": "execute_result"
    }
   ],
   "source": [
    "package_path = site.getsitepackages()[0]\n",
    "for p in site.getsitepackages():\n",
    "    if \"site-package\" in p:\n",
    "        package_path = p\n",
    "        break\n",
    "\n",
    "package_path"
   ]
  },
  {
   "cell_type": "code",
   "execution_count": 9,
   "id": "66ba1f8b-a490-4194-a7f5-a1de8c066dae",
   "metadata": {},
   "outputs": [
    {
     "name": "stderr",
     "output_type": "stream",
     "text": [
      "/work/myenv/lib/python3.9/site-packages/anomalib/config/config.py:243: UserWarning: The seed value is now fixed to 0. Up to v0.3.7, the seed was not fixed when the seed value was set to 0. If you want to use the random seed, please select `None` for the seed value (`null` in the YAML file) or remove the `seed` key from the YAML file.\n",
      "  warn(\n",
      "/work/myenv/lib/python3.9/site-packages/anomalib/config/config.py:280: UserWarning: config.project.unique_dir is set to False. This does not ensure that your results will be written in an empty directory and you may overwrite files.\n",
      "  warn(\n"
     ]
    }
   ],
   "source": [
    "\"\"\"\n",
    "SET MODEL NAME\n",
    "\"\"\"\n",
    "model_name = \"patchcore\"\n",
    "config_path = os.path.join(package_path, f\"anomalib/models/{model_name}/config.yaml\")\n",
    "config = get_configurable_parameters(model_name=model_name, config_path=config_path)"
   ]
  },
  {
   "cell_type": "code",
   "execution_count": 10,
   "id": "f3a4c648-da07-4088-aa1f-e1de87d5a37b",
   "metadata": {},
   "outputs": [
    {
     "data": {
      "text/plain": [
       "{'name': 'custom',\n",
       " 'format': 'mvtec',\n",
       " 'path': './datasets/Custom/',\n",
       " 'task': 'segmentation',\n",
       " 'category': 'my_bottle',\n",
       " 'train_batch_size': 4,\n",
       " 'eval_batch_size': 4,\n",
       " 'num_workers': 8,\n",
       " 'image_size': [256, 256],\n",
       " 'center_crop': [224, 224],\n",
       " 'normalization': 'imagenet',\n",
       " 'transform_config': {'train': None, 'eval': None},\n",
       " 'test_split_mode': 'from_dir',\n",
       " 'test_split_ratio': 0.2,\n",
       " 'val_split_mode': 'same_as_test',\n",
       " 'val_split_ratio': 0.5,\n",
       " 'tiling': {'apply': False, 'tile_size': None, 'stride': None, 'remove_border_count': 0, 'use_random_tiling': False, 'random_tile_count': 16}}"
      ]
     },
     "execution_count": 10,
     "metadata": {},
     "output_type": "execute_result"
    }
   ],
   "source": [
    "\"\"\"\n",
    "DATASET SETTING \n",
    "\"\"\"\n",
    "config.dataset.name = \"custom\"\n",
    "config.dataset.path = \"./datasets/Custom/\"\n",
    "config.dataset.category = \"my_bottle\"\n",
    "\n",
    "config.dataset.train_batch_size = 4\n",
    "config.dataset.eval_batch_size = 4\n",
    "\n",
    "dict(config.dataset)"
   ]
  },
  {
   "cell_type": "code",
   "execution_count": 11,
   "id": "c05c5bb6-aee4-4be2-8ef1-5882cbe6f1bb",
   "metadata": {},
   "outputs": [
    {
     "data": {
      "text/plain": [
       "{'logger': [], 'log_graph': False}"
      ]
     },
     "execution_count": 11,
     "metadata": {},
     "output_type": "execute_result"
    }
   ],
   "source": [
    "dict(config.logging)"
   ]
  },
  {
   "cell_type": "code",
   "execution_count": 12,
   "id": "53ef298c-8804-4229-a4d8-8239d3640a28",
   "metadata": {},
   "outputs": [
    {
     "data": {
      "text/plain": [
       "{'image': ['F1Score', 'AUROC'],\n",
       " 'pixel': [],\n",
       " 'threshold': {'method': 'adaptive', 'manual_image': None, 'manual_pixel': None}}"
      ]
     },
     "execution_count": 12,
     "metadata": {},
     "output_type": "execute_result"
    }
   ],
   "source": [
    "config.metrics.pixel = []\n",
    "\n",
    "dict(config.metrics)"
   ]
  },
  {
   "cell_type": "code",
   "execution_count": 13,
   "id": "95e2d3a0-b3fc-4d9b-bd19-7cb942e7801d",
   "metadata": {},
   "outputs": [
    {
     "data": {
      "text/plain": [
       "{'name': 'patchcore',\n",
       " 'backbone': 'resnet18',\n",
       " 'pre_trained': True,\n",
       " 'layers': ['layer2.-1', 'layer3.-1'],\n",
       " 'coreset_sampling_ratio': 0.1,\n",
       " 'num_neighbors': 9,\n",
       " 'normalization_method': 'min_max',\n",
       " 'input_size': [224, 224]}"
      ]
     },
     "execution_count": 13,
     "metadata": {},
     "output_type": "execute_result"
    }
   ],
   "source": [
    "\"\"\"\n",
    "MODEL SETTING\n",
    "\"\"\"\n",
    "config.model.backbone = \"resnet18\"\n",
    "config.model.layers = ['layer2.-1', 'layer3.-1']\n",
    "config.model.coreset_sampling_ratio = 0.1\n",
    "config.model.num_neighbors = 9\n",
    "\n",
    "# config.model.backbone = \"wide_resnet50_2\"\n",
    "# config.model.layers = ['layer2.-1', 'layer3.-1']\n",
    "# config.model.coreset_sampling_ratio = 0.1\n",
    "# config.model.num_neighbors = 9\n",
    "\n",
    "# config.model.backbone = \"tf_efficientnet_b7_ns\"\n",
    "# config.model.layers = ['blocks.3.-1', 'blocks.4.-1']\n",
    "# config.model.coreset_sampling_ratio = 0.1\n",
    "# config.model.num_neighbors = 9\n",
    "\n",
    "dict(config.model)"
   ]
  },
  {
   "cell_type": "code",
   "execution_count": 14,
   "id": "06623637-e7d6-43a9-a858-0811678458e5",
   "metadata": {},
   "outputs": [
    {
     "data": {
      "text/plain": [
       "{'export_mode': None}"
      ]
     },
     "execution_count": 14,
     "metadata": {},
     "output_type": "execute_result"
    }
   ],
   "source": [
    "dict(config.optimization)"
   ]
  },
  {
   "cell_type": "code",
   "execution_count": 16,
   "id": "db09cbbb-ef6b-40d2-b7ca-7a92fd05e9a4",
   "metadata": {},
   "outputs": [
    {
     "data": {
      "text/plain": [
       "{'seed': 0,\n",
       " 'path': './results/my_bottle_patchcore_resnet18',\n",
       " 'unique_dir': False}"
      ]
     },
     "execution_count": 16,
     "metadata": {},
     "output_type": "execute_result"
    }
   ],
   "source": [
    "config.project.path = f\"./results/{config.dataset.category}_{model_name}_{config.model.backbone}\"\n",
    "dict(config.project)"
   ]
  },
  {
   "cell_type": "code",
   "execution_count": 17,
   "id": "7423e004-b128-491f-9796-846144ad2274",
   "metadata": {},
   "outputs": [
    {
     "data": {
      "text/plain": [
       "{'enable_checkpointing': True,\n",
       " 'default_root_dir': './results/my_bottle_patchcore_resnet18',\n",
       " 'gradient_clip_val': 0,\n",
       " 'gradient_clip_algorithm': 'norm',\n",
       " 'num_nodes': 1,\n",
       " 'devices': 1,\n",
       " 'enable_progress_bar': True,\n",
       " 'overfit_batches': 0.0,\n",
       " 'track_grad_norm': -1,\n",
       " 'check_val_every_n_epoch': 1,\n",
       " 'fast_dev_run': False,\n",
       " 'accumulate_grad_batches': 1,\n",
       " 'max_epochs': 1,\n",
       " 'min_epochs': None,\n",
       " 'max_steps': -1,\n",
       " 'min_steps': None,\n",
       " 'max_time': None,\n",
       " 'limit_train_batches': 1.0,\n",
       " 'limit_val_batches': 1.0,\n",
       " 'limit_test_batches': 1.0,\n",
       " 'limit_predict_batches': 1.0,\n",
       " 'val_check_interval': 1.0,\n",
       " 'log_every_n_steps': 50,\n",
       " 'accelerator': 'auto',\n",
       " 'strategy': None,\n",
       " 'sync_batchnorm': False,\n",
       " 'precision': 32,\n",
       " 'enable_model_summary': True,\n",
       " 'num_sanity_val_steps': 0,\n",
       " 'profiler': None,\n",
       " 'benchmark': False,\n",
       " 'deterministic': False,\n",
       " 'reload_dataloaders_every_n_epochs': 0,\n",
       " 'auto_lr_find': False,\n",
       " 'replace_sampler_ddp': True,\n",
       " 'detect_anomaly': False,\n",
       " 'auto_scale_batch_size': False,\n",
       " 'plugins': None,\n",
       " 'move_metrics_to_cpu': False,\n",
       " 'multiple_trainloader_mode': 'max_size_cycle'}"
      ]
     },
     "execution_count": 17,
     "metadata": {},
     "output_type": "execute_result"
    }
   ],
   "source": [
    "config.trainer.default_root_dir = f\"./results/{config.dataset.category}_{model_name}_{config.model.backbone}\"\n",
    "\n",
    "dict(config.trainer)"
   ]
  },
  {
   "cell_type": "code",
   "execution_count": 18,
   "id": "7011cf62-e591-40b5-8e0a-7ea63d6dec35",
   "metadata": {},
   "outputs": [
    {
     "data": {
      "text/plain": [
       "{'show_images': False,\n",
       " 'save_images': True,\n",
       " 'log_images': True,\n",
       " 'image_save_path': None,\n",
       " 'mode': 'full'}"
      ]
     },
     "execution_count": 18,
     "metadata": {},
     "output_type": "execute_result"
    }
   ],
   "source": [
    "dict(config.visualization)"
   ]
  },
  {
   "cell_type": "markdown",
   "id": "ea8a2b3a-992d-414e-959a-4d04067b4cf5",
   "metadata": {},
   "source": [
    "## Generate Fake Mask"
   ]
  },
  {
   "cell_type": "code",
   "execution_count": 19,
   "id": "421ac8b5-5202-43ae-b34a-1eddd2e00318",
   "metadata": {},
   "outputs": [],
   "source": [
    "test_dir_path = f\"{config.dataset.path}{config.dataset.category}/test/\"\n",
    "ground_truth_dir_path = f\"{config.dataset.path}{config.dataset.category}/ground_truth/\"\n",
    "bad_labels = [d for d in os.listdir(test_dir_path) if os.path.isdir(os.path.join(test_dir_path, d)) and d != 'good']\n",
    "\n",
    "for bad_label in bad_labels:\n",
    "    current_test_dir_path = f\"{test_dir_path}/{bad_label}/\"\n",
    "    current_ground_truth_dir_path = f\"{ground_truth_dir_path}/{bad_label}/\"\n",
    "    img_labels = [f for f in os.listdir(current_test_dir_path) if os.path.isfile(os.path.join(current_test_dir_path, f))]\n",
    "\n",
    "    if not os.path.exists(current_ground_truth_dir_path):\n",
    "        os.makedirs(current_ground_truth_dir_path)\n",
    "        \n",
    "    for img_label in img_labels:\n",
    "        test_img_path = f\"{current_test_dir_path}{img_label}\"\n",
    "        test_img = cv2.imread(test_img_path, cv2.IMREAD_GRAYSCALE)\n",
    "        \n",
    "        black_img = np.zeros(test_img.shape, dtype=np.uint8)\n",
    "        \n",
    "        black_img_path = f\"{current_ground_truth_dir_path}{img_label}\"\n",
    "        cv2.imwrite(black_img_path, black_img)"
   ]
  },
  {
   "cell_type": "markdown",
   "id": "87241646-97fc-4aae-b39d-972b14c12864",
   "metadata": {},
   "source": [
    "## Train"
   ]
  },
  {
   "cell_type": "code",
   "execution_count": 20,
   "id": "281f3e24-1f09-4548-bcc3-32b0784ee5db",
   "metadata": {},
   "outputs": [
    {
     "name": "stderr",
     "output_type": "stream",
     "text": [
      "/work/myenv/lib/python3.9/site-packages/torchmetrics/utilities/prints.py:36: UserWarning: Metric `PrecisionRecallCurve` will save all targets and predictions in buffer. For large datasets this may lead to large memory footprint.\n",
      "  warnings.warn(*args, **kwargs)\n",
      "/work/myenv/lib/python3.9/site-packages/anomalib/utils/callbacks/__init__.py:142: UserWarning: Export option: None not found. Defaulting to no model export\n",
      "  warnings.warn(f\"Export option: {config.optimization.export_mode} not found. Defaulting to no model export\")\n"
     ]
    }
   ],
   "source": [
    "datamodule = get_datamodule(config)\n",
    "model = get_model(config)\n",
    "experiment_logger = get_experiment_logger(config)\n",
    "callbacks = get_callbacks(config)"
   ]
  },
  {
   "cell_type": "code",
   "execution_count": 21,
   "id": "a97125c2-9f57-4ea0-9c6b-5891a3705462",
   "metadata": {},
   "outputs": [],
   "source": [
    "\"\"\"\n",
    "Monkey Patch\n",
    " * _compute_adaptive_threshold\n",
    "\"\"\"\n",
    "\n",
    "def _compute_adaptive_threshold(self, outputs) -> None:\n",
    "    self.image_threshold.reset()\n",
    "    self.pixel_threshold.reset()\n",
    "    self._collect_outputs(self.image_threshold, self.pixel_threshold, outputs)\n",
    "    self.image_threshold.compute()\n",
    "    # if \"mask\" in outputs[0].keys() and \"anomaly_maps\" in outputs[0].keys():\n",
    "    #     self.pixel_threshold.compute()\n",
    "    # else:\n",
    "    #     self.pixel_threshold.value = self.image_threshold.value\n",
    "    self.pixel_threshold.value = self.image_threshold.value\n",
    "\n",
    "model._compute_adaptive_threshold = _compute_adaptive_threshold.__get__(model, model.__class__)"
   ]
  },
  {
   "cell_type": "code",
   "execution_count": 22,
   "id": "5610570b-ff12-4578-97b3-a1162ba7c07b",
   "metadata": {
    "scrolled": true
   },
   "outputs": [
    {
     "name": "stderr",
     "output_type": "stream",
     "text": [
      "/work/myenv/lib/python3.9/site-packages/torchmetrics/utilities/prints.py:36: UserWarning: Metric `ROC` will save all targets and predictions in buffer. For large datasets this may lead to large memory footprint.\n",
      "  warnings.warn(*args, **kwargs)\n",
      "/work/myenv/lib/python3.9/site-packages/pytorch_lightning/core/optimizer.py:183: UserWarning: `LightningModule.configure_optimizers` returned `None`, this fit will run with no optimizer\n",
      "  rank_zero_warn(\n"
     ]
    },
    {
     "data": {
      "application/vnd.jupyter.widget-view+json": {
       "model_id": "f58546eec2974e1d81487ef7be282096",
       "version_major": 2,
       "version_minor": 0
      },
      "text/plain": [
       "Training: 0it [00:00, ?it/s]"
      ]
     },
     "metadata": {},
     "output_type": "display_data"
    },
    {
     "name": "stderr",
     "output_type": "stream",
     "text": [
      "/work/myenv/lib/python3.9/site-packages/pytorch_lightning/loops/optimization/optimizer_loop.py:138: UserWarning: `training_step` returned `None`. If this was on purpose, ignore this warning...\n",
      "  self.warning_cache.warn(\"`training_step` returned `None`. If this was on purpose, ignore this warning...\")\n"
     ]
    },
    {
     "data": {
      "application/vnd.jupyter.widget-view+json": {
       "model_id": "",
       "version_major": 2,
       "version_minor": 0
      },
      "text/plain": [
       "Validation: 0it [00:00, ?it/s]"
      ]
     },
     "metadata": {},
     "output_type": "display_data"
    },
    {
     "name": "stderr",
     "output_type": "stream",
     "text": [
      "\n",
      "\n",
      "Selecting Coreset Indices.:   0%|                                                                                                                                                                      | 0/16385 [00:00<?, ?it/s]\u001b[A\u001b[A\n",
      "\n",
      "Selecting Coreset Indices.:   0%|                                                                                                                                                              | 1/16385 [00:00<34:07,  8.00it/s]\u001b[A\u001b[A\n",
      "\n",
      "Selecting Coreset Indices.:   0%|▌                                                                                                                                                           | 56/16385 [00:00<00:55, 295.42it/s]\u001b[A\u001b[A\n",
      "\n",
      "Selecting Coreset Indices.:   1%|█                                                                                                                                                          | 114/16385 [00:00<00:39, 414.68it/s]\u001b[A\u001b[A\n",
      "\n",
      "Selecting Coreset Indices.:   1%|█▋                                                                                                                                                         | 172/16385 [00:00<00:34, 475.26it/s]\u001b[A\u001b[A\n",
      "\n",
      "Selecting Coreset Indices.:   1%|██▏                                                                                                                                                        | 230/16385 [00:00<00:31, 509.46it/s]\u001b[A\u001b[A\n",
      "\n",
      "Selecting Coreset Indices.:   2%|██▋                                                                                                                                                        | 284/16385 [00:00<00:31, 519.36it/s]\u001b[A\u001b[A\n",
      "\n",
      "Selecting Coreset Indices.:   2%|███▏                                                                                                                                                       | 341/16385 [00:00<00:29, 535.05it/s]\u001b[A\u001b[A\n",
      "\n",
      "Selecting Coreset Indices.:   2%|███▊                                                                                                                                                       | 399/16385 [00:00<00:29, 546.10it/s]\u001b[A\u001b[A\n",
      "\n",
      "Selecting Coreset Indices.:   3%|████▎                                                                                                                                                      | 455/16385 [00:00<00:28, 550.02it/s]\u001b[A\u001b[A\n",
      "\n",
      "Selecting Coreset Indices.:   3%|████▊                                                                                                                                                      | 512/16385 [00:01<00:28, 553.86it/s]\u001b[A\u001b[A\n",
      "\n",
      "Selecting Coreset Indices.:   3%|█████▍                                                                                                                                                     | 570/16385 [00:01<00:28, 560.12it/s]\u001b[A\u001b[A\n",
      "\n",
      "Selecting Coreset Indices.:   4%|█████▉                                                                                                                                                     | 628/16385 [00:01<00:27, 564.26it/s]\u001b[A\u001b[A\n",
      "\n",
      "Selecting Coreset Indices.:   4%|██████▍                                                                                                                                                    | 685/16385 [00:01<00:27, 565.57it/s]\u001b[A\u001b[A\n",
      "\n",
      "Selecting Coreset Indices.:   5%|███████                                                                                                                                                    | 743/16385 [00:01<00:27, 567.67it/s]\u001b[A\u001b[A\n",
      "\n",
      "Selecting Coreset Indices.:   5%|███████▌                                                                                                                                                   | 800/16385 [00:01<00:27, 566.79it/s]\u001b[A\u001b[A\n",
      "\n",
      "Selecting Coreset Indices.:   5%|████████                                                                                                                                                   | 857/16385 [00:01<00:27, 566.92it/s]\u001b[A\u001b[A\n",
      "\n",
      "Selecting Coreset Indices.:   6%|████████▋                                                                                                                                                  | 915/16385 [00:01<00:27, 568.91it/s]\u001b[A\u001b[A\n",
      "\n",
      "Selecting Coreset Indices.:   6%|█████████▏                                                                                                                                                 | 973/16385 [00:01<00:27, 569.98it/s]\u001b[A\u001b[A\n",
      "\n",
      "Selecting Coreset Indices.:   6%|█████████▋                                                                                                                                                | 1031/16385 [00:01<00:26, 569.07it/s]\u001b[A\u001b[A\n",
      "\n",
      "Selecting Coreset Indices.:   7%|██████████▏                                                                                                                                               | 1089/16385 [00:02<00:26, 570.60it/s]\u001b[A\u001b[A\n",
      "\n",
      "Selecting Coreset Indices.:   7%|██████████▊                                                                                                                                               | 1147/16385 [00:02<00:26, 571.44it/s]\u001b[A\u001b[A\n",
      "\n",
      "Selecting Coreset Indices.:   7%|███████████▎                                                                                                                                              | 1205/16385 [00:02<00:26, 569.42it/s]\u001b[A\u001b[A\n",
      "\n",
      "Selecting Coreset Indices.:   8%|███████████▊                                                                                                                                              | 1263/16385 [00:02<00:26, 569.69it/s]\u001b[A\u001b[A\n",
      "\n",
      "Selecting Coreset Indices.:   8%|████████████▍                                                                                                                                             | 1320/16385 [00:02<00:26, 569.72it/s]\u001b[A\u001b[A\n",
      "\n",
      "Selecting Coreset Indices.:   8%|████████████▉                                                                                                                                             | 1378/16385 [00:02<00:26, 570.99it/s]\u001b[A\u001b[A\n",
      "\n",
      "Selecting Coreset Indices.:   9%|█████████████▍                                                                                                                                            | 1436/16385 [00:02<00:26, 571.04it/s]\u001b[A\u001b[A\n",
      "\n",
      "Selecting Coreset Indices.:   9%|██████████████                                                                                                                                            | 1494/16385 [00:02<00:26, 571.08it/s]\u001b[A\u001b[A\n",
      "\n",
      "Selecting Coreset Indices.:   9%|██████████████▌                                                                                                                                           | 1552/16385 [00:02<00:25, 571.13it/s]\u001b[A\u001b[A\n",
      "\n",
      "Selecting Coreset Indices.:  10%|███████████████▏                                                                                                                                          | 1610/16385 [00:02<00:25, 571.16it/s]\u001b[A\u001b[A\n",
      "\n",
      "Selecting Coreset Indices.:  10%|███████████████▋                                                                                                                                          | 1668/16385 [00:03<00:25, 570.70it/s]\u001b[A\u001b[A\n",
      "\n",
      "Selecting Coreset Indices.:  11%|████████████████▏                                                                                                                                         | 1726/16385 [00:03<00:25, 568.92it/s]\u001b[A\u001b[A\n",
      "\n",
      "Selecting Coreset Indices.:  11%|████████████████▊                                                                                                                                         | 1784/16385 [00:03<00:25, 570.05it/s]\u001b[A\u001b[A\n",
      "\n",
      "Selecting Coreset Indices.:  11%|█████████████████▎                                                                                                                                        | 1842/16385 [00:03<00:25, 569.99it/s]\u001b[A\u001b[A\n",
      "\n",
      "Selecting Coreset Indices.:  12%|█████████████████▊                                                                                                                                        | 1900/16385 [00:03<00:25, 569.70it/s]\u001b[A\u001b[A\n",
      "\n",
      "Selecting Coreset Indices.:  12%|██████████████████▍                                                                                                                                       | 1957/16385 [00:03<00:25, 566.24it/s]\u001b[A\u001b[A\n",
      "\n",
      "Selecting Coreset Indices.:  12%|██████████████████▉                                                                                                                                       | 2015/16385 [00:03<00:25, 569.11it/s]\u001b[A\u001b[A\n",
      "\n",
      "Selecting Coreset Indices.:  13%|███████████████████▍                                                                                                                                      | 2073/16385 [00:03<00:25, 570.86it/s]\u001b[A\u001b[A\n",
      "\n",
      "Selecting Coreset Indices.:  13%|████████████████████                                                                                                                                      | 2131/16385 [00:03<00:25, 568.87it/s]\u001b[A\u001b[A\n",
      "\n",
      "Selecting Coreset Indices.:  13%|████████████████████▌                                                                                                                                     | 2189/16385 [00:03<00:24, 570.00it/s]\u001b[A\u001b[A\n",
      "\n",
      "Selecting Coreset Indices.:  14%|█████████████████████                                                                                                                                     | 2247/16385 [00:04<00:24, 568.07it/s]\u001b[A\u001b[A\n",
      "\n",
      "Selecting Coreset Indices.:  14%|█████████████████████▋                                                                                                                                    | 2305/16385 [00:04<00:24, 568.74it/s]\u001b[A\u001b[A\n",
      "\n",
      "Selecting Coreset Indices.:  14%|██████████████████████▏                                                                                                                                   | 2363/16385 [00:04<00:24, 570.01it/s]\u001b[A\u001b[A\n",
      "\n",
      "Selecting Coreset Indices.:  15%|██████████████████████▊                                                                                                                                   | 2421/16385 [00:04<00:24, 568.97it/s]\u001b[A\u001b[A\n",
      "\n",
      "Selecting Coreset Indices.:  15%|███████████████████████▎                                                                                                                                  | 2478/16385 [00:04<00:24, 566.82it/s]\u001b[A\u001b[A\n",
      "\n",
      "Selecting Coreset Indices.:  15%|███████████████████████▊                                                                                                                                  | 2536/16385 [00:04<00:24, 568.60it/s]\u001b[A\u001b[A\n",
      "\n",
      "Selecting Coreset Indices.:  16%|████████████████████████▎                                                                                                                                 | 2593/16385 [00:04<00:24, 565.32it/s]\u001b[A\u001b[A\n",
      "\n",
      "Selecting Coreset Indices.:  16%|████████████████████████▉                                                                                                                                 | 2651/16385 [00:04<00:24, 566.92it/s]\u001b[A\u001b[A\n",
      "\n",
      "Selecting Coreset Indices.:  17%|█████████████████████████▍                                                                                                                                | 2708/16385 [00:04<00:24, 565.48it/s]\u001b[A\u001b[A\n",
      "\n",
      "Selecting Coreset Indices.:  17%|█████████████████████████▉                                                                                                                                | 2765/16385 [00:04<00:24, 565.68it/s]\u001b[A\u001b[A\n",
      "\n",
      "Selecting Coreset Indices.:  17%|██████████████████████████▌                                                                                                                               | 2822/16385 [00:05<00:23, 565.28it/s]\u001b[A\u001b[A\n",
      "\n",
      "Selecting Coreset Indices.:  18%|███████████████████████████                                                                                                                               | 2879/16385 [00:05<00:23, 566.27it/s]\u001b[A\u001b[A\n",
      "\n",
      "Selecting Coreset Indices.:  18%|███████████████████████████▌                                                                                                                              | 2936/16385 [00:05<00:23, 566.93it/s]\u001b[A\u001b[A\n",
      "\n",
      "Selecting Coreset Indices.:  18%|████████████████████████████▏                                                                                                                             | 2994/16385 [00:05<00:23, 569.17it/s]\u001b[A\u001b[A\n",
      "\n",
      "Selecting Coreset Indices.:  19%|████████████████████████████▋                                                                                                                             | 3052/16385 [00:05<00:23, 570.27it/s]\u001b[A\u001b[A\n",
      "\n",
      "Selecting Coreset Indices.:  19%|█████████████████████████████▏                                                                                                                            | 3110/16385 [00:05<00:23, 567.72it/s]\u001b[A\u001b[A\n",
      "\n",
      "Selecting Coreset Indices.:  19%|█████████████████████████████▊                                                                                                                            | 3167/16385 [00:05<00:23, 565.33it/s]\u001b[A\u001b[A\n",
      "\n",
      "Selecting Coreset Indices.:  20%|██████████████████████████████▎                                                                                                                           | 3224/16385 [00:05<00:23, 563.69it/s]\u001b[A\u001b[A\n",
      "\n",
      "Selecting Coreset Indices.:  20%|██████████████████████████████▊                                                                                                                           | 3281/16385 [00:05<00:23, 561.74it/s]\u001b[A\u001b[A\n",
      "\n",
      "Selecting Coreset Indices.:  20%|███████████████████████████████▎                                                                                                                          | 3338/16385 [00:06<00:23, 563.37it/s]\u001b[A\u001b[A\n",
      "\n",
      "Selecting Coreset Indices.:  21%|███████████████████████████████▉                                                                                                                          | 3395/16385 [00:06<00:23, 562.04it/s]\u001b[A\u001b[A\n",
      "\n",
      "Selecting Coreset Indices.:  21%|████████████████████████████████▍                                                                                                                         | 3452/16385 [00:06<00:22, 563.89it/s]\u001b[A\u001b[A\n",
      "\n",
      "Selecting Coreset Indices.:  21%|████████████████████████████████▉                                                                                                                         | 3510/16385 [00:06<00:22, 566.26it/s]\u001b[A\u001b[A\n",
      "\n",
      "Selecting Coreset Indices.:  22%|█████████████████████████████████▌                                                                                                                        | 3567/16385 [00:06<00:22, 566.95it/s]\u001b[A\u001b[A\n",
      "\n",
      "Selecting Coreset Indices.:  22%|██████████████████████████████████                                                                                                                        | 3625/16385 [00:06<00:22, 569.66it/s]\u001b[A\u001b[A\n",
      "\n",
      "Selecting Coreset Indices.:  22%|██████████████████████████████████▌                                                                                                                       | 3682/16385 [00:06<00:22, 568.97it/s]\u001b[A\u001b[A\n",
      "\n",
      "Selecting Coreset Indices.:  23%|███████████████████████████████████▏                                                                                                                      | 3739/16385 [00:06<00:22, 566.86it/s]\u001b[A\u001b[A\n",
      "\n",
      "Selecting Coreset Indices.:  23%|███████████████████████████████████▋                                                                                                                      | 3797/16385 [00:06<00:22, 568.00it/s]\u001b[A\u001b[A\n",
      "\n",
      "Selecting Coreset Indices.:  24%|████████████████████████████████████▏                                                                                                                     | 3854/16385 [00:06<00:22, 567.86it/s]\u001b[A\u001b[A\n",
      "\n",
      "Selecting Coreset Indices.:  24%|████████████████████████████████████▊                                                                                                                     | 3912/16385 [00:07<00:21, 569.01it/s]\u001b[A\u001b[A\n",
      "\n",
      "Selecting Coreset Indices.:  24%|█████████████████████████████████████▎                                                                                                                    | 3970/16385 [00:07<00:21, 569.80it/s]\u001b[A\u001b[A\n",
      "\n",
      "Selecting Coreset Indices.:  25%|█████████████████████████████████████▊                                                                                                                    | 4028/16385 [00:07<00:21, 572.09it/s]\u001b[A\u001b[A\n",
      "\n",
      "Selecting Coreset Indices.:  25%|██████████████████████████████████████▍                                                                                                                   | 4086/16385 [00:07<00:21, 569.75it/s]\u001b[A\u001b[A\n",
      "\n",
      "Selecting Coreset Indices.:  25%|██████████████████████████████████████▉                                                                                                                   | 4143/16385 [00:07<00:21, 569.57it/s]\u001b[A\u001b[A\n",
      "\n",
      "Selecting Coreset Indices.:  26%|███████████████████████████████████████▍                                                                                                                  | 4200/16385 [00:07<00:21, 567.63it/s]\u001b[A\u001b[A\n",
      "\n",
      "Selecting Coreset Indices.:  26%|████████████████████████████████████████                                                                                                                  | 4257/16385 [00:07<00:21, 563.91it/s]\u001b[A\u001b[A\n",
      "\n",
      "Selecting Coreset Indices.:  26%|████████████████████████████████████████▌                                                                                                                 | 4314/16385 [00:07<00:21, 561.02it/s]\u001b[A\u001b[A\n",
      "\n",
      "Selecting Coreset Indices.:  27%|█████████████████████████████████████████                                                                                                                 | 4371/16385 [00:07<00:21, 560.57it/s]\u001b[A\u001b[A\n",
      "\n",
      "Selecting Coreset Indices.:  27%|█████████████████████████████████████████▌                                                                                                                | 4428/16385 [00:07<00:21, 560.71it/s]\u001b[A\u001b[A\n",
      "\n",
      "Selecting Coreset Indices.:  27%|██████████████████████████████████████████▏                                                                                                               | 4486/16385 [00:08<00:21, 563.71it/s]\u001b[A\u001b[A\n",
      "\n",
      "Selecting Coreset Indices.:  28%|██████████████████████████████████████████▋                                                                                                               | 4543/16385 [00:08<00:20, 565.20it/s]\u001b[A\u001b[A\n",
      "\n",
      "Selecting Coreset Indices.:  28%|███████████████████████████████████████████▏                                                                                                              | 4600/16385 [00:08<00:20, 561.51it/s]\u001b[A\u001b[A\n",
      "\n",
      "Selecting Coreset Indices.:  28%|███████████████████████████████████████████▊                                                                                                              | 4657/16385 [00:08<00:20, 561.27it/s]\u001b[A\u001b[A\n",
      "\n",
      "Selecting Coreset Indices.:  29%|████████████████████████████████████████████▎                                                                                                             | 4714/16385 [00:08<00:20, 562.68it/s]\u001b[A\u001b[A\n",
      "\n",
      "Selecting Coreset Indices.:  29%|████████████████████████████████████████████▊                                                                                                             | 4772/16385 [00:08<00:20, 565.65it/s]\u001b[A\u001b[A\n",
      "\n",
      "Selecting Coreset Indices.:  29%|█████████████████████████████████████████████▍                                                                                                            | 4830/16385 [00:08<00:20, 566.82it/s]\u001b[A\u001b[A\n",
      "\n",
      "Selecting Coreset Indices.:  30%|█████████████████████████████████████████████▉                                                                                                            | 4888/16385 [00:08<00:20, 568.57it/s]\u001b[A\u001b[A\n",
      "\n",
      "Selecting Coreset Indices.:  30%|██████████████████████████████████████████████▍                                                                                                           | 4946/16385 [00:08<00:20, 570.22it/s]\u001b[A\u001b[A\n",
      "\n",
      "Selecting Coreset Indices.:  31%|███████████████████████████████████████████████                                                                                                           | 5004/16385 [00:08<00:20, 566.44it/s]\u001b[A\u001b[A\n",
      "\n",
      "Selecting Coreset Indices.:  31%|███████████████████████████████████████████████▌                                                                                                          | 5061/16385 [00:09<00:19, 566.70it/s]\u001b[A\u001b[A\n",
      "\n",
      "Selecting Coreset Indices.:  31%|████████████████████████████████████████████████                                                                                                          | 5119/16385 [00:09<00:19, 568.44it/s]\u001b[A\u001b[A\n",
      "\n",
      "Selecting Coreset Indices.:  32%|████████████████████████████████████████████████▋                                                                                                         | 5176/16385 [00:09<00:19, 565.96it/s]\u001b[A\u001b[A\n",
      "\n",
      "Selecting Coreset Indices.:  32%|█████████████████████████████████████████████████▏                                                                                                        | 5233/16385 [00:09<00:19, 565.57it/s]\u001b[A\u001b[A\n",
      "\n",
      "Selecting Coreset Indices.:  32%|█████████████████████████████████████████████████▋                                                                                                        | 5290/16385 [00:09<00:19, 563.86it/s]\u001b[A\u001b[A\n",
      "\n",
      "Selecting Coreset Indices.:  33%|██████████████████████████████████████████████████▎                                                                                                       | 5348/16385 [00:09<00:19, 566.89it/s]\u001b[A\u001b[A\n",
      "\n",
      "Selecting Coreset Indices.:  33%|██████████████████████████████████████████████████▊                                                                                                       | 5405/16385 [00:09<00:19, 567.61it/s]\u001b[A\u001b[A\n",
      "\n",
      "Selecting Coreset Indices.:  33%|███████████████████████████████████████████████████▎                                                                                                      | 5463/16385 [00:09<00:19, 569.29it/s]\u001b[A\u001b[A\n",
      "\n",
      "Selecting Coreset Indices.:  34%|███████████████████████████████████████████████████▉                                                                                                      | 5520/16385 [00:09<00:19, 567.57it/s]\u001b[A\u001b[A\n",
      "\n",
      "Selecting Coreset Indices.:  34%|████████████████████████████████████████████████████▍                                                                                                     | 5577/16385 [00:09<00:19, 566.79it/s]\u001b[A\u001b[A\n",
      "\n",
      "Selecting Coreset Indices.:  34%|████████████████████████████████████████████████████▉                                                                                                     | 5634/16385 [00:10<00:19, 565.79it/s]\u001b[A\u001b[A\n",
      "\n",
      "Selecting Coreset Indices.:  35%|█████████████████████████████████████████████████████▍                                                                                                    | 5691/16385 [00:10<00:18, 563.92it/s]\u001b[A\u001b[A\n",
      "\n",
      "Selecting Coreset Indices.:  35%|██████████████████████████████████████████████████████                                                                                                    | 5748/16385 [00:10<00:18, 563.85it/s]\u001b[A\u001b[A\n",
      "\n",
      "Selecting Coreset Indices.:  35%|██████████████████████████████████████████████████████▌                                                                                                   | 5805/16385 [00:10<00:18, 561.71it/s]\u001b[A\u001b[A\n",
      "\n",
      "Selecting Coreset Indices.:  36%|███████████████████████████████████████████████████████                                                                                                   | 5862/16385 [00:10<00:18, 562.59it/s]\u001b[A\u001b[A\n",
      "\n",
      "Selecting Coreset Indices.:  36%|███████████████████████████████████████████████████████▋                                                                                                  | 5919/16385 [00:10<00:18, 561.01it/s]\u001b[A\u001b[A\n",
      "\n",
      "Selecting Coreset Indices.:  36%|████████████████████████████████████████████████████████▏                                                                                                 | 5976/16385 [00:10<00:18, 563.66it/s]\u001b[A\u001b[A\n",
      "\n",
      "Selecting Coreset Indices.:  37%|████████████████████████████████████████████████████████▋                                                                                                 | 6034/16385 [00:10<00:18, 566.94it/s]\u001b[A\u001b[A\n",
      "\n",
      "Selecting Coreset Indices.:  37%|█████████████████████████████████████████████████████████▏                                                                                                | 6091/16385 [00:10<00:18, 563.12it/s]\u001b[A\u001b[A\n",
      "\n",
      "Selecting Coreset Indices.:  38%|█████████████████████████████████████████████████████████▊                                                                                                | 6149/16385 [00:10<00:18, 567.00it/s]\u001b[A\u001b[A\n",
      "\n",
      "Selecting Coreset Indices.:  38%|██████████████████████████████████████████████████████████▎                                                                                               | 6207/16385 [00:11<00:17, 568.93it/s]\u001b[A\u001b[A\n",
      "\n",
      "Selecting Coreset Indices.:  38%|██████████████████████████████████████████████████████████▉                                                                                               | 6265/16385 [00:11<00:17, 570.43it/s]\u001b[A\u001b[A\n",
      "\n",
      "Selecting Coreset Indices.:  39%|███████████████████████████████████████████████████████████▍                                                                                              | 6323/16385 [00:11<00:17, 570.00it/s]\u001b[A\u001b[A\n",
      "\n",
      "Selecting Coreset Indices.:  39%|███████████████████████████████████████████████████████████▉                                                                                              | 6381/16385 [00:11<00:17, 567.81it/s]\u001b[A\u001b[A\n",
      "\n",
      "Selecting Coreset Indices.:  39%|████████████████████████████████████████████████████████████▌                                                                                             | 6438/16385 [00:11<00:17, 566.73it/s]\u001b[A\u001b[A\n",
      "\n",
      "Selecting Coreset Indices.:  40%|█████████████████████████████████████████████████████████████                                                                                             | 6496/16385 [00:11<00:17, 567.98it/s]\u001b[A\u001b[A\n",
      "\n",
      "Selecting Coreset Indices.:  40%|█████████████████████████████████████████████████████████████▌                                                                                            | 6554/16385 [00:11<00:17, 568.95it/s]\u001b[A\u001b[A\n",
      "\n",
      "Selecting Coreset Indices.:  40%|██████████████████████████████████████████████████████████████▏                                                                                           | 6611/16385 [00:11<00:17, 569.07it/s]\u001b[A\u001b[A\n",
      "\n",
      "Selecting Coreset Indices.:  41%|██████████████████████████████████████████████████████████████▋                                                                                           | 6668/16385 [00:11<00:17, 565.16it/s]\u001b[A\u001b[A\n",
      "\n",
      "Selecting Coreset Indices.:  41%|███████████████████████████████████████████████████████████████▏                                                                                          | 6725/16385 [00:11<00:17, 565.96it/s]\u001b[A\u001b[A\n",
      "\n",
      "Selecting Coreset Indices.:  41%|███████████████████████████████████████████████████████████████▊                                                                                          | 6783/16385 [00:12<00:16, 569.53it/s]\u001b[A\u001b[A\n",
      "\n",
      "Selecting Coreset Indices.:  42%|████████████████████████████████████████████████████████████████▎                                                                                         | 6841/16385 [00:12<00:16, 570.13it/s]\u001b[A\u001b[A\n",
      "\n",
      "Selecting Coreset Indices.:  42%|████████████████████████████████████████████████████████████████▊                                                                                         | 6899/16385 [00:12<00:16, 569.83it/s]\u001b[A\u001b[A\n",
      "\n",
      "Selecting Coreset Indices.:  42%|█████████████████████████████████████████████████████████████████▍                                                                                        | 6957/16385 [00:12<00:16, 571.80it/s]\u001b[A\u001b[A\n",
      "\n",
      "Selecting Coreset Indices.:  43%|█████████████████████████████████████████████████████████████████▉                                                                                        | 7015/16385 [00:12<00:16, 567.76it/s]\u001b[A\u001b[A\n",
      "\n",
      "Selecting Coreset Indices.:  43%|██████████████████████████████████████████████████████████████████▍                                                                                       | 7072/16385 [00:12<00:16, 566.70it/s]\u001b[A\u001b[A\n",
      "\n",
      "Selecting Coreset Indices.:  44%|███████████████████████████████████████████████████████████████████                                                                                       | 7129/16385 [00:12<00:16, 567.04it/s]\u001b[A\u001b[A\n",
      "\n",
      "Selecting Coreset Indices.:  44%|███████████████████████████████████████████████████████████████████▌                                                                                      | 7186/16385 [00:12<00:16, 565.34it/s]\u001b[A\u001b[A\n",
      "\n",
      "Selecting Coreset Indices.:  44%|████████████████████████████████████████████████████████████████████                                                                                      | 7243/16385 [00:12<00:16, 564.10it/s]\u001b[A\u001b[A\n",
      "\n",
      "Selecting Coreset Indices.:  45%|████████████████████████████████████████████████████████████████████▌                                                                                     | 7300/16385 [00:12<00:16, 565.45it/s]\u001b[A\u001b[A\n",
      "\n",
      "Selecting Coreset Indices.:  45%|█████████████████████████████████████████████████████████████████████▏                                                                                    | 7357/16385 [00:13<00:15, 564.79it/s]\u001b[A\u001b[A\n",
      "\n",
      "Selecting Coreset Indices.:  45%|█████████████████████████████████████████████████████████████████████▋                                                                                    | 7414/16385 [00:13<00:15, 566.06it/s]\u001b[A\u001b[A\n",
      "\n",
      "Selecting Coreset Indices.:  46%|██████████████████████████████████████████████████████████████████████▏                                                                                   | 7472/16385 [00:13<00:15, 569.11it/s]\u001b[A\u001b[A\n",
      "\n",
      "Selecting Coreset Indices.:  46%|██████████████████████████████████████████████████████████████████████▊                                                                                   | 7530/16385 [00:13<00:15, 569.99it/s]\u001b[A\u001b[A\n",
      "\n",
      "Selecting Coreset Indices.:  46%|███████████████████████████████████████████████████████████████████████▎                                                                                  | 7588/16385 [00:13<00:15, 571.22it/s]\u001b[A\u001b[A\n",
      "\n",
      "Selecting Coreset Indices.:  47%|███████████████████████████████████████████████████████████████████████▊                                                                                  | 7646/16385 [00:13<00:15, 565.88it/s]\u001b[A\u001b[A\n",
      "\n",
      "Selecting Coreset Indices.:  47%|████████████████████████████████████████████████████████████████████████▍                                                                                 | 7703/16385 [00:13<00:15, 564.08it/s]\u001b[A\u001b[A\n",
      "\n",
      "Selecting Coreset Indices.:  47%|████████████████████████████████████████████████████████████████████████▉                                                                                 | 7760/16385 [00:13<00:15, 562.44it/s]\u001b[A\u001b[A\n",
      "\n",
      "Selecting Coreset Indices.:  48%|█████████████████████████████████████████████████████████████████████████▍                                                                                | 7817/16385 [00:13<00:15, 560.41it/s]\u001b[A\u001b[A\n",
      "\n",
      "Selecting Coreset Indices.:  48%|██████████████████████████████████████████████████████████████████████████                                                                                | 7874/16385 [00:14<00:15, 561.21it/s]\u001b[A\u001b[A\n",
      "\n",
      "Selecting Coreset Indices.:  48%|██████████████████████████████████████████████████████████████████████████▌                                                                               | 7931/16385 [00:14<00:15, 562.23it/s]\u001b[A\u001b[A\n",
      "\n",
      "Selecting Coreset Indices.:  49%|███████████████████████████████████████████████████████████████████████████                                                                               | 7988/16385 [00:14<00:14, 563.27it/s]\u001b[A\u001b[A\n",
      "\n",
      "Selecting Coreset Indices.:  49%|███████████████████████████████████████████████████████████████████████████▌                                                                              | 8045/16385 [00:14<00:14, 564.72it/s]\u001b[A\u001b[A\n",
      "\n",
      "Selecting Coreset Indices.:  49%|████████████████████████████████████████████████████████████████████████████▏                                                                             | 8103/16385 [00:14<00:14, 567.24it/s]\u001b[A\u001b[A\n",
      "\n",
      "Selecting Coreset Indices.:  50%|████████████████████████████████████████████████████████████████████████████▋                                                                             | 8160/16385 [00:14<00:14, 567.45it/s]\u001b[A\u001b[A\n",
      "\n",
      "Selecting Coreset Indices.:  50%|█████████████████████████████████████████████████████████████████████████████▏                                                                            | 8218/16385 [00:14<00:14, 568.88it/s]\u001b[A\u001b[A\n",
      "\n",
      "Selecting Coreset Indices.:  51%|█████████████████████████████████████████████████████████████████████████████▊                                                                            | 8275/16385 [00:14<00:14, 568.87it/s]\u001b[A\u001b[A\n",
      "\n",
      "Selecting Coreset Indices.:  51%|██████████████████████████████████████████████████████████████████████████████▎                                                                           | 8333/16385 [00:14<00:14, 570.16it/s]\u001b[A\u001b[A\n",
      "\n",
      "Selecting Coreset Indices.:  51%|██████████████████████████████████████████████████████████████████████████████▊                                                                           | 8391/16385 [00:14<00:14, 564.87it/s]\u001b[A\u001b[A\n",
      "\n",
      "Selecting Coreset Indices.:  52%|███████████████████████████████████████████████████████████████████████████████▍                                                                          | 8448/16385 [00:15<00:14, 558.20it/s]\u001b[A\u001b[A\n",
      "\n",
      "Selecting Coreset Indices.:  52%|███████████████████████████████████████████████████████████████████████████████▉                                                                          | 8505/16385 [00:15<00:14, 560.96it/s]\u001b[A\u001b[A\n",
      "\n",
      "Selecting Coreset Indices.:  52%|████████████████████████████████████████████████████████████████████████████████▍                                                                         | 8563/16385 [00:15<00:13, 564.02it/s]\u001b[A\u001b[A\n",
      "\n",
      "Selecting Coreset Indices.:  53%|█████████████████████████████████████████████████████████████████████████████████                                                                         | 8621/16385 [00:15<00:13, 567.14it/s]\u001b[A\u001b[A\n",
      "\n",
      "Selecting Coreset Indices.:  53%|█████████████████████████████████████████████████████████████████████████████████▌                                                                        | 8679/16385 [00:15<00:13, 569.46it/s]\u001b[A\u001b[A\n",
      "\n",
      "Selecting Coreset Indices.:  53%|██████████████████████████████████████████████████████████████████████████████████                                                                        | 8737/16385 [00:15<00:13, 569.71it/s]\u001b[A\u001b[A\n",
      "\n",
      "Selecting Coreset Indices.:  54%|██████████████████████████████████████████████████████████████████████████████████▋                                                                       | 8794/16385 [00:15<00:13, 568.72it/s]\u001b[A\u001b[A\n",
      "\n",
      "Selecting Coreset Indices.:  54%|███████████████████████████████████████████████████████████████████████████████████▏                                                                      | 8851/16385 [00:15<00:13, 567.81it/s]\u001b[A\u001b[A\n",
      "\n",
      "Selecting Coreset Indices.:  54%|███████████████████████████████████████████████████████████████████████████████████▋                                                                      | 8909/16385 [00:15<00:13, 569.22it/s]\u001b[A\u001b[A\n",
      "\n",
      "Selecting Coreset Indices.:  55%|████████████████████████████████████████████████████████████████████████████████████▎                                                                     | 8966/16385 [00:15<00:13, 568.80it/s]\u001b[A\u001b[A\n",
      "\n",
      "Selecting Coreset Indices.:  55%|████████████████████████████████████████████████████████████████████████████████████▊                                                                     | 9024/16385 [00:16<00:12, 571.57it/s]\u001b[A\u001b[A\n",
      "\n",
      "Selecting Coreset Indices.:  55%|█████████████████████████████████████████████████████████████████████████████████████▎                                                                    | 9082/16385 [00:16<00:12, 569.31it/s]\u001b[A\u001b[A\n",
      "\n",
      "Selecting Coreset Indices.:  56%|█████████████████████████████████████████████████████████████████████████████████████▉                                                                    | 9139/16385 [00:16<00:12, 568.50it/s]\u001b[A\u001b[A\n",
      "\n",
      "Selecting Coreset Indices.:  56%|██████████████████████████████████████████████████████████████████████████████████████▍                                                                   | 9196/16385 [00:16<00:12, 566.33it/s]\u001b[A\u001b[A\n",
      "\n",
      "Selecting Coreset Indices.:  56%|██████████████████████████████████████████████████████████████████████████████████████▉                                                                   | 9253/16385 [00:16<00:12, 565.63it/s]\u001b[A\u001b[A\n",
      "\n",
      "Selecting Coreset Indices.:  57%|███████████████████████████████████████████████████████████████████████████████████████▌                                                                  | 9310/16385 [00:16<00:12, 557.27it/s]\u001b[A\u001b[A\n",
      "\n",
      "Selecting Coreset Indices.:  57%|████████████████████████████████████████████████████████████████████████████████████████                                                                  | 9368/16385 [00:16<00:12, 561.75it/s]\u001b[A\u001b[A\n",
      "\n",
      "Selecting Coreset Indices.:  58%|████████████████████████████████████████████████████████████████████████████████████████▌                                                                 | 9425/16385 [00:16<00:12, 564.01it/s]\u001b[A\u001b[A\n",
      "\n",
      "Selecting Coreset Indices.:  58%|█████████████████████████████████████████████████████████████████████████████████████████                                                                 | 9482/16385 [00:16<00:12, 563.87it/s]\u001b[A\u001b[A\n",
      "\n",
      "Selecting Coreset Indices.:  58%|█████████████████████████████████████████████████████████████████████████████████████████▋                                                                | 9539/16385 [00:16<00:12, 562.80it/s]\u001b[A\u001b[A\n",
      "\n",
      "Selecting Coreset Indices.:  59%|██████████████████████████████████████████████████████████████████████████████████████████▏                                                               | 9597/16385 [00:17<00:11, 566.51it/s]\u001b[A\u001b[A\n",
      "\n",
      "Selecting Coreset Indices.:  59%|██████████████████████████████████████████████████████████████████████████████████████████▋                                                               | 9654/16385 [00:17<00:11, 566.73it/s]\u001b[A\u001b[A\n",
      "\n",
      "Selecting Coreset Indices.:  59%|███████████████████████████████████████████████████████████████████████████████████████████▎                                                              | 9711/16385 [00:17<00:11, 562.31it/s]\u001b[A\u001b[A\n",
      "\n",
      "Selecting Coreset Indices.:  60%|███████████████████████████████████████████████████████████████████████████████████████████▊                                                              | 9768/16385 [00:17<00:11, 563.84it/s]\u001b[A\u001b[A\n",
      "\n",
      "Selecting Coreset Indices.:  60%|████████████████████████████████████████████████████████████████████████████████████████████▎                                                             | 9825/16385 [00:17<00:11, 565.10it/s]\u001b[A\u001b[A\n",
      "\n",
      "Selecting Coreset Indices.:  60%|████████████████████████████████████████████████████████████████████████████████████████████▉                                                             | 9882/16385 [00:17<00:11, 565.14it/s]\u001b[A\u001b[A\n",
      "\n",
      "Selecting Coreset Indices.:  61%|█████████████████████████████████████████████████████████████████████████████████████████████▍                                                            | 9939/16385 [00:17<00:11, 565.84it/s]\u001b[A\u001b[A\n",
      "\n",
      "Selecting Coreset Indices.:  61%|█████████████████████████████████████████████████████████████████████████████████████████████▉                                                            | 9996/16385 [00:17<00:11, 563.22it/s]\u001b[A\u001b[A\n",
      "\n",
      "Selecting Coreset Indices.:  61%|█████████████████████████████████████████████████████████████████████████████████████████████▊                                                           | 10053/16385 [00:17<00:11, 562.93it/s]\u001b[A\u001b[A\n",
      "\n",
      "Selecting Coreset Indices.:  62%|██████████████████████████████████████████████████████████████████████████████████████████████▍                                                          | 10110/16385 [00:17<00:11, 562.63it/s]\u001b[A\u001b[A\n",
      "\n",
      "Selecting Coreset Indices.:  62%|██████████████████████████████████████████████████████████████████████████████████████████████▉                                                          | 10168/16385 [00:18<00:10, 565.48it/s]\u001b[A\u001b[A\n",
      "\n",
      "Selecting Coreset Indices.:  62%|███████████████████████████████████████████████████████████████████████████████████████████████▍                                                         | 10226/16385 [00:18<00:10, 567.98it/s]\u001b[A\u001b[A\n",
      "\n",
      "Selecting Coreset Indices.:  63%|████████████████████████████████████████████████████████████████████████████████████████████████                                                         | 10283/16385 [00:18<00:10, 565.55it/s]\u001b[A\u001b[A\n",
      "\n",
      "Selecting Coreset Indices.:  63%|████████████████████████████████████████████████████████████████████████████████████████████████▌                                                        | 10340/16385 [00:18<00:10, 563.85it/s]\u001b[A\u001b[A\n",
      "\n",
      "Selecting Coreset Indices.:  63%|█████████████████████████████████████████████████████████████████████████████████████████████████                                                        | 10398/16385 [00:18<00:10, 565.96it/s]\u001b[A\u001b[A\n",
      "\n",
      "Selecting Coreset Indices.:  64%|█████████████████████████████████████████████████████████████████████████████████████████████████▋                                                       | 10456/16385 [00:18<00:10, 567.71it/s]\u001b[A\u001b[A\n",
      "\n",
      "Selecting Coreset Indices.:  64%|██████████████████████████████████████████████████████████████████████████████████████████████████▏                                                      | 10513/16385 [00:18<00:10, 567.89it/s]\u001b[A\u001b[A\n",
      "\n",
      "Selecting Coreset Indices.:  65%|██████████████████████████████████████████████████████████████████████████████████████████████████▋                                                      | 10570/16385 [00:18<00:10, 567.70it/s]\u001b[A\u001b[A\n",
      "\n",
      "Selecting Coreset Indices.:  65%|███████████████████████████████████████████████████████████████████████████████████████████████████▏                                                     | 10627/16385 [00:18<00:10, 567.26it/s]\u001b[A\u001b[A\n",
      "\n",
      "Selecting Coreset Indices.:  65%|███████████████████████████████████████████████████████████████████████████████████████████████████▊                                                     | 10684/16385 [00:18<00:10, 556.60it/s]\u001b[A\u001b[A\n",
      "\n",
      "Selecting Coreset Indices.:  66%|████████████████████████████████████████████████████████████████████████████████████████████████████▎                                                    | 10740/16385 [00:19<00:10, 554.22it/s]\u001b[A\u001b[A\n",
      "\n",
      "Selecting Coreset Indices.:  66%|████████████████████████████████████████████████████████████████████████████████████████████████████▊                                                    | 10798/16385 [00:19<00:09, 559.61it/s]\u001b[A\u001b[A\n",
      "\n",
      "Selecting Coreset Indices.:  66%|█████████████████████████████████████████████████████████████████████████████████████████████████████▎                                                   | 10856/16385 [00:19<00:09, 563.83it/s]\u001b[A\u001b[A\n",
      "\n",
      "Selecting Coreset Indices.:  67%|█████████████████████████████████████████████████████████████████████████████████████████████████████▉                                                   | 10913/16385 [00:19<00:09, 560.73it/s]\u001b[A\u001b[A\n",
      "\n",
      "Selecting Coreset Indices.:  67%|██████████████████████████████████████████████████████████████████████████████████████████████████████▍                                                  | 10971/16385 [00:19<00:09, 564.52it/s]\u001b[A\u001b[A\n",
      "\n",
      "Selecting Coreset Indices.:  67%|██████████████████████████████████████████████████████████████████████████████████████████████████████▉                                                  | 11029/16385 [00:19<00:09, 567.31it/s]\u001b[A\u001b[A\n",
      "\n",
      "Selecting Coreset Indices.:  68%|███████████████████████████████████████████████████████████████████████████████████████████████████████▌                                                 | 11086/16385 [00:19<00:09, 566.88it/s]\u001b[A\u001b[A\n",
      "\n",
      "Selecting Coreset Indices.:  68%|████████████████████████████████████████████████████████████████████████████████████████████████████████                                                 | 11143/16385 [00:19<00:09, 567.23it/s]\u001b[A\u001b[A\n",
      "\n",
      "Selecting Coreset Indices.:  68%|████████████████████████████████████████████████████████████████████████████████████████████████████████▌                                                | 11200/16385 [00:19<00:09, 565.24it/s]\u001b[A\u001b[A\n",
      "\n",
      "Selecting Coreset Indices.:  69%|█████████████████████████████████████████████████████████████████████████████████████████████████████████                                                | 11257/16385 [00:20<00:09, 565.23it/s]\u001b[A\u001b[A\n",
      "\n",
      "Selecting Coreset Indices.:  69%|█████████████████████████████████████████████████████████████████████████████████████████████████████████▋                                               | 11315/16385 [00:20<00:08, 567.92it/s]\u001b[A\u001b[A\n",
      "\n",
      "Selecting Coreset Indices.:  69%|██████████████████████████████████████████████████████████████████████████████████████████████████████████▏                                              | 11373/16385 [00:20<00:08, 569.38it/s]\u001b[A\u001b[A\n",
      "\n",
      "Selecting Coreset Indices.:  70%|██████████████████████████████████████████████████████████████████████████████████████████████████████████▋                                              | 11430/16385 [00:20<00:08, 564.47it/s]\u001b[A\u001b[A\n",
      "\n",
      "Selecting Coreset Indices.:  70%|███████████████████████████████████████████████████████████████████████████████████████████████████████████▎                                             | 11487/16385 [00:20<00:08, 565.93it/s]\u001b[A\u001b[A\n",
      "\n",
      "Selecting Coreset Indices.:  70%|███████████████████████████████████████████████████████████████████████████████████████████████████████████▊                                             | 11544/16385 [00:20<00:08, 566.19it/s]\u001b[A\u001b[A\n",
      "\n",
      "Selecting Coreset Indices.:  71%|████████████████████████████████████████████████████████████████████████████████████████████████████████████▎                                            | 11601/16385 [00:20<00:08, 566.70it/s]\u001b[A\u001b[A\n",
      "\n",
      "Selecting Coreset Indices.:  71%|████████████████████████████████████████████████████████████████████████████████████████████████████████████▊                                            | 11658/16385 [00:20<00:08, 566.07it/s]\u001b[A\u001b[A\n",
      "\n",
      "Selecting Coreset Indices.:  71%|█████████████████████████████████████████████████████████████████████████████████████████████████████████████▍                                           | 11715/16385 [00:20<00:08, 566.74it/s]\u001b[A\u001b[A\n",
      "\n",
      "Selecting Coreset Indices.:  72%|█████████████████████████████████████████████████████████████████████████████████████████████████████████████▉                                           | 11772/16385 [00:20<00:08, 566.94it/s]\u001b[A\u001b[A\n",
      "\n",
      "Selecting Coreset Indices.:  72%|██████████████████████████████████████████████████████████████████████████████████████████████████████████████▍                                          | 11829/16385 [00:21<00:08, 565.30it/s]\u001b[A\u001b[A\n",
      "\n",
      "Selecting Coreset Indices.:  73%|██████████████████████████████████████████████████████████████████████████████████████████████████████████████▉                                          | 11886/16385 [00:21<00:07, 565.74it/s]\u001b[A\u001b[A\n",
      "\n",
      "Selecting Coreset Indices.:  73%|███████████████████████████████████████████████████████████████████████████████████████████████████████████████▌                                         | 11943/16385 [00:21<00:07, 563.77it/s]\u001b[A\u001b[A\n",
      "\n",
      "Selecting Coreset Indices.:  73%|████████████████████████████████████████████████████████████████████████████████████████████████████████████████                                         | 12000/16385 [00:21<00:07, 563.44it/s]\u001b[A\u001b[A\n",
      "\n",
      "Selecting Coreset Indices.:  74%|████████████████████████████████████████████████████████████████████████████████████████████████████████████████▌                                        | 12057/16385 [00:21<00:07, 561.91it/s]\u001b[A\u001b[A\n",
      "\n",
      "Selecting Coreset Indices.:  74%|█████████████████████████████████████████████████████████████████████████████████████████████████████████████████                                        | 12114/16385 [00:21<00:07, 563.67it/s]\u001b[A\u001b[A\n",
      "\n",
      "Selecting Coreset Indices.:  74%|█████████████████████████████████████████████████████████████████████████████████████████████████████████████████▋                                       | 12172/16385 [00:21<00:07, 566.41it/s]\u001b[A\u001b[A\n",
      "\n",
      "Selecting Coreset Indices.:  75%|██████████████████████████████████████████████████████████████████████████████████████████████████████████████████▏                                      | 12230/16385 [00:21<00:07, 568.51it/s]\u001b[A\u001b[A\n",
      "\n",
      "Selecting Coreset Indices.:  75%|██████████████████████████████████████████████████████████████████████████████████████████████████████████████████▋                                      | 12288/16385 [00:21<00:07, 569.82it/s]\u001b[A\u001b[A\n",
      "\n",
      "Selecting Coreset Indices.:  75%|███████████████████████████████████████████████████████████████████████████████████████████████████████████████████▎                                     | 12346/16385 [00:21<00:07, 569.94it/s]\u001b[A\u001b[A\n",
      "\n",
      "Selecting Coreset Indices.:  76%|███████████████████████████████████████████████████████████████████████████████████████████████████████████████████▊                                     | 12403/16385 [00:22<00:07, 566.61it/s]\u001b[A\u001b[A\n",
      "\n",
      "Selecting Coreset Indices.:  76%|████████████████████████████████████████████████████████████████████████████████████████████████████████████████████▎                                    | 12460/16385 [00:22<00:06, 565.68it/s]\u001b[A\u001b[A\n",
      "\n",
      "Selecting Coreset Indices.:  76%|████████████████████████████████████████████████████████████████████████████████████████████████████████████████████▉                                    | 12517/16385 [00:22<00:06, 565.61it/s]\u001b[A\u001b[A\n",
      "\n",
      "Selecting Coreset Indices.:  77%|█████████████████████████████████████████████████████████████████████████████████████████████████████████████████████▍                                   | 12574/16385 [00:22<00:06, 564.94it/s]\u001b[A\u001b[A\n",
      "\n",
      "Selecting Coreset Indices.:  77%|█████████████████████████████████████████████████████████████████████████████████████████████████████████████████████▉                                   | 12631/16385 [00:22<00:06, 565.39it/s]\u001b[A\u001b[A\n",
      "\n",
      "Selecting Coreset Indices.:  77%|██████████████████████████████████████████████████████████████████████████████████████████████████████████████████████▍                                  | 12688/16385 [00:22<00:06, 565.30it/s]\u001b[A\u001b[A\n",
      "\n",
      "Selecting Coreset Indices.:  78%|███████████████████████████████████████████████████████████████████████████████████████████████████████████████████████                                  | 12746/16385 [00:22<00:06, 566.77it/s]\u001b[A\u001b[A\n",
      "\n",
      "Selecting Coreset Indices.:  78%|███████████████████████████████████████████████████████████████████████████████████████████████████████████████████████▌                                 | 12804/16385 [00:22<00:06, 568.16it/s]\u001b[A\u001b[A\n",
      "\n",
      "Selecting Coreset Indices.:  78%|████████████████████████████████████████████████████████████████████████████████████████████████████████████████████████                                 | 12862/16385 [00:22<00:06, 571.00it/s]\u001b[A\u001b[A\n",
      "\n",
      "Selecting Coreset Indices.:  79%|████████████████████████████████████████████████████████████████████████████████████████████████████████████████████████▋                                | 12920/16385 [00:22<00:06, 568.22it/s]\u001b[A\u001b[A\n",
      "\n",
      "Selecting Coreset Indices.:  79%|█████████████████████████████████████████████████████████████████████████████████████████████████████████████████████████▏                               | 12977/16385 [00:23<00:05, 568.56it/s]\u001b[A\u001b[A\n",
      "\n",
      "Selecting Coreset Indices.:  80%|█████████████████████████████████████████████████████████████████████████████████████████████████████████████████████████▋                               | 13034/16385 [00:23<00:05, 567.91it/s]\u001b[A\u001b[A\n",
      "\n",
      "Selecting Coreset Indices.:  80%|██████████████████████████████████████████████████████████████████████████████████████████████████████████████████████████▎                              | 13092/16385 [00:23<00:05, 568.96it/s]\u001b[A\u001b[A\n",
      "\n",
      "Selecting Coreset Indices.:  80%|██████████████████████████████████████████████████████████████████████████████████████████████████████████████████████████▊                              | 13149/16385 [00:23<00:05, 568.36it/s]\u001b[A\u001b[A\n",
      "\n",
      "Selecting Coreset Indices.:  81%|███████████████████████████████████████████████████████████████████████████████████████████████████████████████████████████▎                             | 13206/16385 [00:23<00:05, 562.97it/s]\u001b[A\u001b[A\n",
      "\n",
      "Selecting Coreset Indices.:  81%|███████████████████████████████████████████████████████████████████████████████████████████████████████████████████████████▊                             | 13263/16385 [00:23<00:05, 561.21it/s]\u001b[A\u001b[A\n",
      "\n",
      "Selecting Coreset Indices.:  81%|████████████████████████████████████████████████████████████████████████████████████████████████████████████████████████████▍                            | 13321/16385 [00:23<00:05, 564.85it/s]\u001b[A\u001b[A\n",
      "\n",
      "Selecting Coreset Indices.:  82%|████████████████████████████████████████████████████████████████████████████████████████████████████████████████████████████▉                            | 13378/16385 [00:23<00:05, 565.69it/s]\u001b[A\u001b[A\n",
      "\n",
      "Selecting Coreset Indices.:  82%|█████████████████████████████████████████████████████████████████████████████████████████████████████████████████████████████▍                           | 13436/16385 [00:23<00:05, 566.93it/s]\u001b[A\u001b[A\n",
      "\n",
      "Selecting Coreset Indices.:  82%|█████████████████████████████████████████████████████████████████████████████████████████████████████████████████████████████▉                           | 13493/16385 [00:23<00:05, 564.96it/s]\u001b[A\u001b[A\n",
      "\n",
      "Selecting Coreset Indices.:  83%|██████████████████████████████████████████████████████████████████████████████████████████████████████████████████████████████▌                          | 13550/16385 [00:24<00:05, 566.01it/s]\u001b[A\u001b[A\n",
      "\n",
      "Selecting Coreset Indices.:  83%|███████████████████████████████████████████████████████████████████████████████████████████████████████████████████████████████                          | 13607/16385 [00:24<00:04, 565.59it/s]\u001b[A\u001b[A\n",
      "\n",
      "Selecting Coreset Indices.:  83%|███████████████████████████████████████████████████████████████████████████████████████████████████████████████████████████████▌                         | 13665/16385 [00:24<00:04, 568.19it/s]\u001b[A\u001b[A\n",
      "\n",
      "Selecting Coreset Indices.:  84%|████████████████████████████████████████████████████████████████████████████████████████████████████████████████████████████████▏                        | 13722/16385 [00:24<00:04, 568.60it/s]\u001b[A\u001b[A\n",
      "\n",
      "Selecting Coreset Indices.:  84%|████████████████████████████████████████████████████████████████████████████████████████████████████████████████████████████████▋                        | 13780/16385 [00:24<00:04, 569.99it/s]\u001b[A\u001b[A\n",
      "\n",
      "Selecting Coreset Indices.:  84%|█████████████████████████████████████████████████████████████████████████████████████████████████████████████████████████████████▏                       | 13837/16385 [00:24<00:04, 568.64it/s]\u001b[A\u001b[A\n",
      "\n",
      "Selecting Coreset Indices.:  85%|█████████████████████████████████████████████████████████████████████████████████████████████████████████████████████████████████▋                       | 13894/16385 [00:24<00:04, 567.21it/s]\u001b[A\u001b[A\n",
      "\n",
      "Selecting Coreset Indices.:  85%|██████████████████████████████████████████████████████████████████████████████████████████████████████████████████████████████████▎                      | 13951/16385 [00:24<00:04, 566.27it/s]\u001b[A\u001b[A\n",
      "\n",
      "Selecting Coreset Indices.:  85%|██████████████████████████████████████████████████████████████████████████████████████████████████████████████████████████████████▊                      | 14008/16385 [00:24<00:04, 566.02it/s]\u001b[A\u001b[A\n",
      "\n",
      "Selecting Coreset Indices.:  86%|███████████████████████████████████████████████████████████████████████████████████████████████████████████████████████████████████▎                     | 14065/16385 [00:24<00:04, 564.46it/s]\u001b[A\u001b[A\n",
      "\n",
      "Selecting Coreset Indices.:  86%|███████████████████████████████████████████████████████████████████████████████████████████████████████████████████████████████████▊                     | 14122/16385 [00:25<00:04, 564.25it/s]\u001b[A\u001b[A\n",
      "\n",
      "Selecting Coreset Indices.:  87%|████████████████████████████████████████████████████████████████████████████████████████████████████████████████████████████████████▍                    | 14179/16385 [00:25<00:03, 564.83it/s]\u001b[A\u001b[A\n",
      "\n",
      "Selecting Coreset Indices.:  87%|████████████████████████████████████████████████████████████████████████████████████████████████████████████████████████████████████▉                    | 14236/16385 [00:25<00:03, 565.35it/s]\u001b[A\u001b[A\n",
      "\n",
      "Selecting Coreset Indices.:  87%|█████████████████████████████████████████████████████████████████████████████████████████████████████████████████████████████████████▍                   | 14294/16385 [00:25<00:03, 568.31it/s]\u001b[A\u001b[A\n",
      "\n",
      "Selecting Coreset Indices.:  88%|██████████████████████████████████████████████████████████████████████████████████████████████████████████████████████████████████████                   | 14352/16385 [00:25<00:03, 568.99it/s]\u001b[A\u001b[A\n",
      "\n",
      "Selecting Coreset Indices.:  88%|██████████████████████████████████████████████████████████████████████████████████████████████████████████████████████████████████████▌                  | 14410/16385 [00:25<00:03, 568.99it/s]\u001b[A\u001b[A\n",
      "\n",
      "Selecting Coreset Indices.:  88%|███████████████████████████████████████████████████████████████████████████████████████████████████████████████████████████████████████                  | 14467/16385 [00:25<00:03, 569.19it/s]\u001b[A\u001b[A\n",
      "\n",
      "Selecting Coreset Indices.:  89%|███████████████████████████████████████████████████████████████████████████████████████████████████████████████████████████████████████▌                 | 14524/16385 [00:25<00:03, 568.51it/s]\u001b[A\u001b[A\n",
      "\n",
      "Selecting Coreset Indices.:  89%|████████████████████████████████████████████████████████████████████████████████████████████████████████████████████████████████████████▏                | 14581/16385 [00:25<00:03, 568.61it/s]\u001b[A\u001b[A\n",
      "\n",
      "Selecting Coreset Indices.:  89%|████████████████████████████████████████████████████████████████████████████████████████████████████████████████████████████████████████▋                | 14638/16385 [00:25<00:03, 568.10it/s]\u001b[A\u001b[A\n",
      "\n",
      "Selecting Coreset Indices.:  90%|█████████████████████████████████████████████████████████████████████████████████████████████████████████████████████████████████████████▏               | 14696/16385 [00:26<00:02, 569.30it/s]\u001b[A\u001b[A\n",
      "\n",
      "Selecting Coreset Indices.:  90%|█████████████████████████████████████████████████████████████████████████████████████████████████████████████████████████████████████████▊               | 14753/16385 [00:26<00:02, 567.92it/s]\u001b[A\u001b[A\n",
      "\n",
      "Selecting Coreset Indices.:  90%|██████████████████████████████████████████████████████████████████████████████████████████████████████████████████████████████████████████▎              | 14810/16385 [00:26<00:02, 564.23it/s]\u001b[A\u001b[A\n",
      "\n",
      "Selecting Coreset Indices.:  91%|██████████████████████████████████████████████████████████████████████████████████████████████████████████████████████████████████████████▊              | 14868/16385 [00:26<00:02, 567.87it/s]\u001b[A\u001b[A\n",
      "\n",
      "Selecting Coreset Indices.:  91%|███████████████████████████████████████████████████████████████████████████████████████████████████████████████████████████████████████████▍             | 14926/16385 [00:26<00:02, 570.34it/s]\u001b[A\u001b[A\n",
      "\n",
      "Selecting Coreset Indices.:  91%|███████████████████████████████████████████████████████████████████████████████████████████████████████████████████████████████████████████▉             | 14984/16385 [00:26<00:02, 570.93it/s]\u001b[A\u001b[A\n",
      "\n",
      "Selecting Coreset Indices.:  92%|████████████████████████████████████████████████████████████████████████████████████████████████████████████████████████████████████████████▍            | 15042/16385 [00:26<00:02, 571.68it/s]\u001b[A\u001b[A\n",
      "\n",
      "Selecting Coreset Indices.:  92%|█████████████████████████████████████████████████████████████████████████████████████████████████████████████████████████████████████████████            | 15100/16385 [00:26<00:02, 571.19it/s]\u001b[A\u001b[A\n",
      "\n",
      "Selecting Coreset Indices.:  93%|█████████████████████████████████████████████████████████████████████████████████████████████████████████████████████████████████████████████▌           | 15158/16385 [00:26<00:02, 571.63it/s]\u001b[A\u001b[A\n",
      "\n",
      "Selecting Coreset Indices.:  93%|██████████████████████████████████████████████████████████████████████████████████████████████████████████████████████████████████████████████           | 15216/16385 [00:26<00:02, 569.80it/s]\u001b[A\u001b[A\n",
      "\n",
      "Selecting Coreset Indices.:  93%|██████████████████████████████████████████████████████████████████████████████████████████████████████████████████████████████████████████████▌          | 15273/16385 [00:27<00:01, 565.52it/s]\u001b[A\u001b[A\n",
      "\n",
      "Selecting Coreset Indices.:  94%|███████████████████████████████████████████████████████████████████████████████████████████████████████████████████████████████████████████████▏         | 15330/16385 [00:27<00:01, 566.41it/s]\u001b[A\u001b[A\n",
      "\n",
      "Selecting Coreset Indices.:  94%|███████████████████████████████████████████████████████████████████████████████████████████████████████████████████████████████████████████████▋         | 15387/16385 [00:27<00:01, 560.84it/s]\u001b[A\u001b[A\n",
      "\n",
      "Selecting Coreset Indices.:  94%|████████████████████████████████████████████████████████████████████████████████████████████████████████████████████████████████████████████████▏        | 15444/16385 [00:27<00:01, 563.22it/s]\u001b[A\u001b[A\n",
      "\n",
      "Selecting Coreset Indices.:  95%|████████████████████████████████████████████████████████████████████████████████████████████████████████████████████████████████████████████████▋        | 15501/16385 [00:27<00:01, 564.55it/s]\u001b[A\u001b[A\n",
      "\n",
      "Selecting Coreset Indices.:  95%|█████████████████████████████████████████████████████████████████████████████████████████████████████████████████████████████████████████████████▎       | 15558/16385 [00:27<00:01, 565.92it/s]\u001b[A\u001b[A\n",
      "\n",
      "Selecting Coreset Indices.:  95%|█████████████████████████████████████████████████████████████████████████████████████████████████████████████████████████████████████████████████▊       | 15616/16385 [00:27<00:01, 567.98it/s]\u001b[A\u001b[A\n",
      "\n",
      "Selecting Coreset Indices.:  96%|██████████████████████████████████████████████████████████████████████████████████████████████████████████████████████████████████████████████████▎      | 15674/16385 [00:27<00:01, 568.57it/s]\u001b[A\u001b[A\n",
      "\n",
      "Selecting Coreset Indices.:  96%|██████████████████████████████████████████████████████████████████████████████████████████████████████████████████████████████████████████████████▉      | 15731/16385 [00:27<00:01, 567.68it/s]\u001b[A\u001b[A\n",
      "\n",
      "Selecting Coreset Indices.:  96%|███████████████████████████████████████████████████████████████████████████████████████████████████████████████████████████████████████████████████▍     | 15788/16385 [00:27<00:01, 562.75it/s]\u001b[A\u001b[A\n",
      "\n",
      "Selecting Coreset Indices.:  97%|███████████████████████████████████████████████████████████████████████████████████████████████████████████████████████████████████████████████████▉     | 15846/16385 [00:28<00:00, 565.23it/s]\u001b[A\u001b[A\n",
      "\n",
      "Selecting Coreset Indices.:  97%|████████████████████████████████████████████████████████████████████████████████████████████████████████████████████████████████████████████████████▌    | 15904/16385 [00:28<00:00, 567.10it/s]\u001b[A\u001b[A\n",
      "\n",
      "Selecting Coreset Indices.:  97%|█████████████████████████████████████████████████████████████████████████████████████████████████████████████████████████████████████████████████████    | 15961/16385 [00:28<00:00, 566.49it/s]\u001b[A\u001b[A\n",
      "\n",
      "Selecting Coreset Indices.:  98%|█████████████████████████████████████████████████████████████████████████████████████████████████████████████████████████████████████████████████████▌   | 16018/16385 [00:28<00:00, 565.43it/s]\u001b[A\u001b[A\n",
      "\n",
      "Selecting Coreset Indices.:  98%|██████████████████████████████████████████████████████████████████████████████████████████████████████████████████████████████████████████████████████   | 16076/16385 [00:28<00:00, 567.58it/s]\u001b[A\u001b[A\n",
      "\n",
      "Selecting Coreset Indices.:  98%|██████████████████████████████████████████████████████████████████████████████████████████████████████████████████████████████████████████████████████▋  | 16133/16385 [00:28<00:00, 567.75it/s]\u001b[A\u001b[A\n",
      "\n",
      "Selecting Coreset Indices.:  99%|███████████████████████████████████████████████████████████████████████████████████████████████████████████████████████████████████████████████████████▏ | 16190/16385 [00:28<00:00, 566.14it/s]\u001b[A\u001b[A\n",
      "\n",
      "Selecting Coreset Indices.:  99%|███████████████████████████████████████████████████████████████████████████████████████████████████████████████████████████████████████████████████████▋ | 16247/16385 [00:28<00:00, 563.48it/s]\u001b[A\u001b[A\n",
      "\n",
      "Selecting Coreset Indices.: 100%|████████████████████████████████████████████████████████████████████████████████████████████████████████████████████████████████████████████████████████▏| 16304/16385 [00:28<00:00, 565.19it/s]\u001b[A\u001b[A\n",
      "\n",
      "Selecting Coreset Indices.: 100%|█████████████████████████████████████████████████████████████████████████████████████████████████████████████████████████████████████████████████████████| 16385/16385 [00:29<00:00, 564.06it/s]\u001b[A\u001b[A\n"
     ]
    }
   ],
   "source": [
    "trainer = Trainer(**config.trainer, logger=experiment_logger, callbacks=callbacks)\n",
    "logger.info(\"Training the model.\")\n",
    "trainer.fit(model=model, datamodule=datamodule)"
   ]
  },
  {
   "cell_type": "markdown",
   "id": "dfe222e3-fecb-48fa-9d29-2f0f44a36a7b",
   "metadata": {},
   "source": [
    "# Test"
   ]
  },
  {
   "cell_type": "code",
   "execution_count": 23,
   "id": "bd8c8841-98a5-4009-a144-ead62ecde665",
   "metadata": {},
   "outputs": [
    {
     "data": {
      "text/plain": [
       "'/work/results/my_bottle_patchcore_resnet18/weights/lightning/model.ckpt'"
      ]
     },
     "execution_count": 23,
     "metadata": {},
     "output_type": "execute_result"
    }
   ],
   "source": [
    "weight_file_path = trainer.checkpoint_callback.best_model_path\n",
    "weight_file_path"
   ]
  },
  {
   "cell_type": "code",
   "execution_count": 24,
   "id": "5021f1e8-c057-4c51-ac94-9fa8b6c0a633",
   "metadata": {},
   "outputs": [
    {
     "data": {
      "application/vnd.jupyter.widget-view+json": {
       "model_id": "9866947787884656bd9c77c0bb010c76",
       "version_major": 2,
       "version_minor": 0
      },
      "text/plain": [
       "Testing: 0it [00:00, ?it/s]"
      ]
     },
     "metadata": {},
     "output_type": "display_data"
    },
    {
     "name": "stdout",
     "output_type": "stream",
     "text": [
      "────────────────────────────────────────────────────────────────────────────────────────────────────────────────────────\n",
      "       Test metric             DataLoader 0\n",
      "────────────────────────────────────────────────────────────────────────────────────────────────────────────────────────\n",
      "       image_AUROC                  1.0\n",
      "      image_F1Score                 1.0\n",
      "────────────────────────────────────────────────────────────────────────────────────────────────────────────────────────\n"
     ]
    }
   ],
   "source": [
    "logger.info(\"Loading the best model weights.\")\n",
    "load_model_callback = LoadModelCallback(weights_path=weight_file_path)\n",
    "trainer.callbacks.insert(0, load_model_callback)\n",
    "\n",
    "_=trainer.test(model=model, datamodule=datamodule)"
   ]
  },
  {
   "cell_type": "markdown",
   "id": "c9cd8c29-cbb2-481f-bf8a-635daf085b1c",
   "metadata": {},
   "source": [
    "## Check"
   ]
  },
  {
   "cell_type": "code",
   "execution_count": 25,
   "id": "a503f339-5abf-42b7-8dad-78160342be45",
   "metadata": {},
   "outputs": [
    {
     "data": {
      "text/plain": [
       "PatchcoreModel(\n",
       "  (feature_extractor): FeatureExtractor(\n",
       "    (feature_extractor): FeatureListNet(\n",
       "      (conv1): Conv2d(3, 64, kernel_size=(7, 7), stride=(2, 2), padding=(3, 3), bias=False)\n",
       "      (bn1): BatchNorm2d(64, eps=1e-05, momentum=0.1, affine=True, track_running_stats=True)\n",
       "      (act1): ReLU(inplace=True)\n",
       "      (maxpool): MaxPool2d(kernel_size=3, stride=2, padding=1, dilation=1, ceil_mode=False)\n",
       "      (layer1): Sequential(\n",
       "        (0): BasicBlock(\n",
       "          (conv1): Conv2d(64, 64, kernel_size=(3, 3), stride=(1, 1), padding=(1, 1), bias=False)\n",
       "          (bn1): BatchNorm2d(64, eps=1e-05, momentum=0.1, affine=True, track_running_stats=True)\n",
       "          (drop_block): Identity()\n",
       "          (act1): ReLU(inplace=True)\n",
       "          (aa): Identity()\n",
       "          (conv2): Conv2d(64, 64, kernel_size=(3, 3), stride=(1, 1), padding=(1, 1), bias=False)\n",
       "          (bn2): BatchNorm2d(64, eps=1e-05, momentum=0.1, affine=True, track_running_stats=True)\n",
       "          (act2): ReLU(inplace=True)\n",
       "        )\n",
       "        (1): BasicBlock(\n",
       "          (conv1): Conv2d(64, 64, kernel_size=(3, 3), stride=(1, 1), padding=(1, 1), bias=False)\n",
       "          (bn1): BatchNorm2d(64, eps=1e-05, momentum=0.1, affine=True, track_running_stats=True)\n",
       "          (drop_block): Identity()\n",
       "          (act1): ReLU(inplace=True)\n",
       "          (aa): Identity()\n",
       "          (conv2): Conv2d(64, 64, kernel_size=(3, 3), stride=(1, 1), padding=(1, 1), bias=False)\n",
       "          (bn2): BatchNorm2d(64, eps=1e-05, momentum=0.1, affine=True, track_running_stats=True)\n",
       "          (act2): ReLU(inplace=True)\n",
       "        )\n",
       "      )\n",
       "      (layer2): Sequential(\n",
       "        (0): BasicBlock(\n",
       "          (conv1): Conv2d(64, 128, kernel_size=(3, 3), stride=(2, 2), padding=(1, 1), bias=False)\n",
       "          (bn1): BatchNorm2d(128, eps=1e-05, momentum=0.1, affine=True, track_running_stats=True)\n",
       "          (drop_block): Identity()\n",
       "          (act1): ReLU(inplace=True)\n",
       "          (aa): Identity()\n",
       "          (conv2): Conv2d(128, 128, kernel_size=(3, 3), stride=(1, 1), padding=(1, 1), bias=False)\n",
       "          (bn2): BatchNorm2d(128, eps=1e-05, momentum=0.1, affine=True, track_running_stats=True)\n",
       "          (act2): ReLU(inplace=True)\n",
       "          (downsample): Sequential(\n",
       "            (0): Conv2d(64, 128, kernel_size=(1, 1), stride=(2, 2), bias=False)\n",
       "            (1): BatchNorm2d(128, eps=1e-05, momentum=0.1, affine=True, track_running_stats=True)\n",
       "          )\n",
       "        )\n",
       "        (1): BasicBlock(\n",
       "          (conv1): Conv2d(128, 128, kernel_size=(3, 3), stride=(1, 1), padding=(1, 1), bias=False)\n",
       "          (bn1): BatchNorm2d(128, eps=1e-05, momentum=0.1, affine=True, track_running_stats=True)\n",
       "          (drop_block): Identity()\n",
       "          (act1): ReLU(inplace=True)\n",
       "          (aa): Identity()\n",
       "          (conv2): Conv2d(128, 128, kernel_size=(3, 3), stride=(1, 1), padding=(1, 1), bias=False)\n",
       "          (bn2): BatchNorm2d(128, eps=1e-05, momentum=0.1, affine=True, track_running_stats=True)\n",
       "          (act2): ReLU(inplace=True)\n",
       "        )\n",
       "      )\n",
       "      (layer3): Sequential(\n",
       "        (0): BasicBlock(\n",
       "          (conv1): Conv2d(128, 256, kernel_size=(3, 3), stride=(2, 2), padding=(1, 1), bias=False)\n",
       "          (bn1): BatchNorm2d(256, eps=1e-05, momentum=0.1, affine=True, track_running_stats=True)\n",
       "          (drop_block): Identity()\n",
       "          (act1): ReLU(inplace=True)\n",
       "          (aa): Identity()\n",
       "          (conv2): Conv2d(256, 256, kernel_size=(3, 3), stride=(1, 1), padding=(1, 1), bias=False)\n",
       "          (bn2): BatchNorm2d(256, eps=1e-05, momentum=0.1, affine=True, track_running_stats=True)\n",
       "          (act2): ReLU(inplace=True)\n",
       "          (downsample): Sequential(\n",
       "            (0): Conv2d(128, 256, kernel_size=(1, 1), stride=(2, 2), bias=False)\n",
       "            (1): BatchNorm2d(256, eps=1e-05, momentum=0.1, affine=True, track_running_stats=True)\n",
       "          )\n",
       "        )\n",
       "        (1): BasicBlock(\n",
       "          (conv1): Conv2d(256, 256, kernel_size=(3, 3), stride=(1, 1), padding=(1, 1), bias=False)\n",
       "          (bn1): BatchNorm2d(256, eps=1e-05, momentum=0.1, affine=True, track_running_stats=True)\n",
       "          (drop_block): Identity()\n",
       "          (act1): ReLU(inplace=True)\n",
       "          (aa): Identity()\n",
       "          (conv2): Conv2d(256, 256, kernel_size=(3, 3), stride=(1, 1), padding=(1, 1), bias=False)\n",
       "          (bn2): BatchNorm2d(256, eps=1e-05, momentum=0.1, affine=True, track_running_stats=True)\n",
       "          (act2): ReLU(inplace=True)\n",
       "        )\n",
       "      )\n",
       "      (layer4): Sequential(\n",
       "        (0): BasicBlock(\n",
       "          (conv1): Conv2d(256, 512, kernel_size=(3, 3), stride=(2, 2), padding=(1, 1), bias=False)\n",
       "          (bn1): BatchNorm2d(512, eps=1e-05, momentum=0.1, affine=True, track_running_stats=True)\n",
       "          (drop_block): Identity()\n",
       "          (act1): ReLU(inplace=True)\n",
       "          (aa): Identity()\n",
       "          (conv2): Conv2d(512, 512, kernel_size=(3, 3), stride=(1, 1), padding=(1, 1), bias=False)\n",
       "          (bn2): BatchNorm2d(512, eps=1e-05, momentum=0.1, affine=True, track_running_stats=True)\n",
       "          (act2): ReLU(inplace=True)\n",
       "          (downsample): Sequential(\n",
       "            (0): Conv2d(256, 512, kernel_size=(1, 1), stride=(2, 2), bias=False)\n",
       "            (1): BatchNorm2d(512, eps=1e-05, momentum=0.1, affine=True, track_running_stats=True)\n",
       "          )\n",
       "        )\n",
       "        (1): BasicBlock(\n",
       "          (conv1): Conv2d(512, 512, kernel_size=(3, 3), stride=(1, 1), padding=(1, 1), bias=False)\n",
       "          (bn1): BatchNorm2d(512, eps=1e-05, momentum=0.1, affine=True, track_running_stats=True)\n",
       "          (drop_block): Identity()\n",
       "          (act1): ReLU(inplace=True)\n",
       "          (aa): Identity()\n",
       "          (conv2): Conv2d(512, 512, kernel_size=(3, 3), stride=(1, 1), padding=(1, 1), bias=False)\n",
       "          (bn2): BatchNorm2d(512, eps=1e-05, momentum=0.1, affine=True, track_running_stats=True)\n",
       "          (act2): ReLU(inplace=True)\n",
       "        )\n",
       "      )\n",
       "    )\n",
       "  )\n",
       "  (feature_pooler): AvgPool2d(kernel_size=3, stride=1, padding=1)\n",
       "  (anomaly_map_generator): AnomalyMapGenerator(\n",
       "    (blur): GaussianBlur2d()\n",
       "  )\n",
       ")"
      ]
     },
     "execution_count": 25,
     "metadata": {},
     "output_type": "execute_result"
    }
   ],
   "source": [
    "model.model"
   ]
  },
  {
   "cell_type": "code",
   "execution_count": 26,
   "id": "19f4c64e-e089-44b1-83a4-26e1ac8e299c",
   "metadata": {},
   "outputs": [
    {
     "name": "stdout",
     "output_type": "stream",
     "text": [
      "layer2.-1 [dim:128, size:28]\n",
      "layer3.-1 [dim:256, size:14]\n"
     ]
    }
   ],
   "source": [
    "for layer, dim, size in zip(model.model.layers, model.model.feature_extractor.out_dims, model.model.feature_extractor.out_sizes):\n",
    "    print(f\"{layer} [dim:{dim}, size:{size}]\")"
   ]
  },
  {
   "cell_type": "markdown",
   "id": "0442db5f-9f00-400d-8b2e-1749e9607655",
   "metadata": {},
   "source": [
    "## Appendix"
   ]
  },
  {
   "cell_type": "code",
   "execution_count": null,
   "id": "d587e870-9410-4996-a041-a09243517192",
   "metadata": {},
   "outputs": [],
   "source": [
    "import timm"
   ]
  },
  {
   "cell_type": "code",
   "execution_count": null,
   "id": "dcfe8313-434d-4c93-b3c3-4234bb11156a",
   "metadata": {},
   "outputs": [],
   "source": [
    "# timm.create_model(\n",
    "#     \"convnext_base_384_in22ft1k\",\n",
    "#     pretrained=True,\n",
    "#     features_only=True,\n",
    "#     exportable=True,\n",
    "# )"
   ]
  },
  {
   "cell_type": "code",
   "execution_count": null,
   "id": "214a92b1-e088-454c-8edd-075223ee8fe9",
   "metadata": {},
   "outputs": [],
   "source": [
    "timm.list_models(pretrained=True)"
   ]
  },
  {
   "cell_type": "code",
   "execution_count": null,
   "id": "e35b309f-bc98-4af5-b388-d79cfdfeff9f",
   "metadata": {},
   "outputs": [],
   "source": []
  }
 ],
 "metadata": {
  "kernelspec": {
   "display_name": "Python 3 (ipykernel)",
   "language": "python",
   "name": "python3"
  },
  "language_info": {
   "codemirror_mode": {
    "name": "ipython",
    "version": 3
   },
   "file_extension": ".py",
   "mimetype": "text/x-python",
   "name": "python",
   "nbconvert_exporter": "python",
   "pygments_lexer": "ipython3",
   "version": "3.9.18"
  }
 },
 "nbformat": 4,
 "nbformat_minor": 5
}
