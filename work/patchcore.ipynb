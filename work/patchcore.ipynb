{
 "cells": [
  {
   "cell_type": "code",
   "execution_count": null,
   "id": "ea8dea72-434d-4c2f-bde9-5c565a35e13f",
   "metadata": {},
   "outputs": [],
   "source": [
    "import os\n",
    "import pathlib\n",
    "import site"
   ]
  },
  {
   "cell_type": "code",
   "execution_count": null,
   "id": "a7bfd437-523c-4d71-84ab-b560edfd658e",
   "metadata": {},
   "outputs": [],
   "source": [
    "import logging\n",
    "import warnings\n",
    "\n",
    "from anomalib.utils.loggers import configure_logger, get_experiment_logger\n",
    "\n",
    "\n",
    "logger = logging.getLogger(\"anomalib\")\n",
    "configure_logger(level=\"ERROR\") # \"<DEBUG, INFO, WARNING, ERROR>\""
   ]
  },
  {
   "cell_type": "code",
   "execution_count": null,
   "id": "7dc808fd-46d5-4bc4-9a4b-73fdc54d4ad2",
   "metadata": {},
   "outputs": [],
   "source": [
    "import cv2\n",
    "import numpy as np"
   ]
  },
  {
   "cell_type": "code",
   "execution_count": null,
   "id": "d37b262c-1e0a-4030-b49a-e8379cccf6cd",
   "metadata": {},
   "outputs": [],
   "source": [
    "from pytorch_lightning import Trainer, seed_everything"
   ]
  },
  {
   "cell_type": "code",
   "execution_count": null,
   "id": "0de5c649-31a5-4b29-9494-2c70449b918d",
   "metadata": {},
   "outputs": [],
   "source": [
    "from anomalib.config import get_configurable_parameters\n",
    "from anomalib.data import get_datamodule\n",
    "from anomalib.data.utils import TestSplitMode\n",
    "from anomalib.models import get_model\n",
    "from anomalib.utils.callbacks import LoadModelCallback, get_callbacks"
   ]
  },
  {
   "cell_type": "code",
   "execution_count": null,
   "id": "761ccf54-3eb0-4c1d-bc81-de8186a7b82b",
   "metadata": {},
   "outputs": [],
   "source": [
    "\"\"\"\n",
    "Monkey Patch\n",
    " * FeatureExtractor\n",
    "\"\"\"\n",
    "from MyFeatureExtractor import FeatureExtractor\n",
    "import anomalib.models.patchcore.torch_model as ptm\n",
    "ptm.FeatureExtractor = FeatureExtractor"
   ]
  },
  {
   "cell_type": "code",
   "execution_count": null,
   "id": "56441f67-7228-4ee0-a867-3cad07051209",
   "metadata": {},
   "outputs": [],
   "source": [
    "\"\"\"\n",
    "Monkey Patch\n",
    " * Visualizer\n",
    "\"\"\"\n",
    "from MyVisualizer import Visualizer\n",
    "import anomalib.utils.callbacks.visualizer.visualizer_base as vb\n",
    "vb.Visualizer = Visualizer"
   ]
  },
  {
   "cell_type": "markdown",
   "id": "4718198f-f472-4b18-98cf-c5d3dbc9d8ce",
   "metadata": {},
   "source": [
    "## Config"
   ]
  },
  {
   "cell_type": "code",
   "execution_count": null,
   "id": "dc5381c7-39a7-4ee0-b355-01d9a9dcbb93",
   "metadata": {},
   "outputs": [],
   "source": [
    "package_path = site.getsitepackages()[0]\n",
    "for p in site.getsitepackages():\n",
    "    if \"site-package\" in p:\n",
    "        package_path = p\n",
    "        break\n",
    "\n",
    "package_path"
   ]
  },
  {
   "cell_type": "code",
   "execution_count": null,
   "id": "66ba1f8b-a490-4194-a7f5-a1de8c066dae",
   "metadata": {},
   "outputs": [],
   "source": [
    "\"\"\"\n",
    "SET MODEL NAME\n",
    "\"\"\"\n",
    "model_name = \"patchcore\"\n",
    "config_path = os.path.join(package_path, f\"anomalib/models/{model_name}/config.yaml\")\n",
    "config = get_configurable_parameters(model_name=model_name, config_path=config_path)"
   ]
  },
  {
   "cell_type": "code",
   "execution_count": null,
   "id": "f3a4c648-da07-4088-aa1f-e1de87d5a37b",
   "metadata": {},
   "outputs": [],
   "source": [
    "\"\"\"\n",
    "DATASET SETTING \n",
    "\"\"\"\n",
    "config.dataset.name = \"custom\"\n",
    "config.dataset.path = \"./datasets/Custom/\"\n",
    "config.dataset.category = \"my_bottle\"\n",
    "\n",
    "config.dataset.train_batch_size = 4\n",
    "config.dataset.eval_batch_size = 4\n",
    "\n",
    "dict(config.dataset)"
   ]
  },
  {
   "cell_type": "code",
   "execution_count": null,
   "id": "c05c5bb6-aee4-4be2-8ef1-5882cbe6f1bb",
   "metadata": {},
   "outputs": [],
   "source": [
    "dict(config.logging)"
   ]
  },
  {
   "cell_type": "code",
   "execution_count": null,
   "id": "53ef298c-8804-4229-a4d8-8239d3640a28",
   "metadata": {},
   "outputs": [],
   "source": [
    "config.metrics.pixel = []\n",
    "\n",
    "dict(config.metrics)"
   ]
  },
  {
   "cell_type": "code",
   "execution_count": null,
   "id": "95e2d3a0-b3fc-4d9b-bd19-7cb942e7801d",
   "metadata": {},
   "outputs": [],
   "source": [
    "\"\"\"\n",
    "MODEL SETTING\n",
    "\"\"\"\n",
    "# config.model.backbone = \"resnet18\"\n",
    "# config.model.layers = ['layer2.-1', 'layer3.-1']\n",
    "# config.model.coreset_sampling_ratio = 0.1\n",
    "# config.model.num_neighbors = 9\n",
    "\n",
    "# config.model.backbone = \"wide_resnet50_2\"\n",
    "# config.model.layers = ['layer2.-1', 'layer3.-1']\n",
    "# config.model.coreset_sampling_ratio = 0.1\n",
    "# config.model.num_neighbors = 9\n",
    "\n",
    "# config.model.backbone = \"tf_efficientnet_b7_ns\"\n",
    "# config.model.layers = ['blocks.3.-1', 'blocks.4.-1']\n",
    "# config.model.coreset_sampling_ratio = 0.1\n",
    "# config.model.num_neighbors = 9\n",
    "\n",
    "config.model.backbone = \"tf_efficientnetv2_m_in21k\"\n",
    "config.model.layers = ['blocks.2.-1', 'blocks.3.-1', 'blocks.4.-1']\n",
    "config.model.coreset_sampling_ratio = 0.1\n",
    "config.model.num_neighbors = 9\n",
    "\n",
    "# config.model.backbone = \"convnext_base_in22ft1k\"\n",
    "# config.model.layers = ['stages_1.blocks.-1', 'stages_2.blocks.-1']\n",
    "# config.model.coreset_sampling_ratio = 0.1\n",
    "# config.model.num_neighbors = 9\n",
    "\n",
    "dict(config.model)"
   ]
  },
  {
   "cell_type": "code",
   "execution_count": null,
   "id": "06623637-e7d6-43a9-a858-0811678458e5",
   "metadata": {},
   "outputs": [],
   "source": [
    "dict(config.optimization)"
   ]
  },
  {
   "cell_type": "code",
   "execution_count": null,
   "id": "db09cbbb-ef6b-40d2-b7ca-7a92fd05e9a4",
   "metadata": {},
   "outputs": [],
   "source": [
    "config.project.path = f\"./results/{config.dataset.category}_{model_name}_{config.model.backbone}\"\n",
    "dict(config.project)"
   ]
  },
  {
   "cell_type": "code",
   "execution_count": null,
   "id": "7423e004-b128-491f-9796-846144ad2274",
   "metadata": {},
   "outputs": [],
   "source": [
    "config.trainer.default_root_dir = f\"./results/{config.dataset.category}_{model_name}_{config.model.backbone}\"\n",
    "\n",
    "dict(config.trainer)"
   ]
  },
  {
   "cell_type": "code",
   "execution_count": null,
   "id": "7011cf62-e591-40b5-8e0a-7ea63d6dec35",
   "metadata": {},
   "outputs": [],
   "source": [
    "dict(config.visualization)"
   ]
  },
  {
   "cell_type": "markdown",
   "id": "ea8a2b3a-992d-414e-959a-4d04067b4cf5",
   "metadata": {},
   "source": [
    "## Generate Fake Mask"
   ]
  },
  {
   "cell_type": "code",
   "execution_count": null,
   "id": "421ac8b5-5202-43ae-b34a-1eddd2e00318",
   "metadata": {},
   "outputs": [],
   "source": [
    "test_dir_path = f\"{config.dataset.path}{config.dataset.category}/test/\"\n",
    "ground_truth_dir_path = f\"{config.dataset.path}{config.dataset.category}/ground_truth/\"\n",
    "bad_labels = [d for d in os.listdir(test_dir_path) if os.path.isdir(os.path.join(test_dir_path, d)) and d != 'good']\n",
    "\n",
    "for bad_label in bad_labels:\n",
    "    current_test_dir_path = f\"{test_dir_path}/{bad_label}/\"\n",
    "    current_ground_truth_dir_path = f\"{ground_truth_dir_path}/{bad_label}/\"\n",
    "    img_labels = [f for f in os.listdir(current_test_dir_path) if os.path.isfile(os.path.join(current_test_dir_path, f))]\n",
    "\n",
    "    if not os.path.exists(current_ground_truth_dir_path):\n",
    "        os.makedirs(current_ground_truth_dir_path)\n",
    "        \n",
    "    for img_label in img_labels:\n",
    "        test_img_path = f\"{current_test_dir_path}{img_label}\"\n",
    "        test_img = cv2.imread(test_img_path, cv2.IMREAD_GRAYSCALE)\n",
    "        \n",
    "        black_img = np.zeros(test_img.shape, dtype=np.uint8)\n",
    "        \n",
    "        black_img_path = f\"{current_ground_truth_dir_path}{img_label}\"\n",
    "        cv2.imwrite(black_img_path, black_img)"
   ]
  },
  {
   "cell_type": "markdown",
   "id": "87241646-97fc-4aae-b39d-972b14c12864",
   "metadata": {},
   "source": [
    "## Train"
   ]
  },
  {
   "cell_type": "code",
   "execution_count": null,
   "id": "281f3e24-1f09-4548-bcc3-32b0784ee5db",
   "metadata": {},
   "outputs": [],
   "source": [
    "datamodule = get_datamodule(config)\n",
    "model = get_model(config)\n",
    "experiment_logger = get_experiment_logger(config)\n",
    "callbacks = get_callbacks(config)"
   ]
  },
  {
   "cell_type": "code",
   "execution_count": null,
   "id": "a97125c2-9f57-4ea0-9c6b-5891a3705462",
   "metadata": {},
   "outputs": [],
   "source": [
    "\"\"\"\n",
    "Monkey Patch\n",
    " * _compute_adaptive_threshold\n",
    "\"\"\"\n",
    "\n",
    "def _compute_adaptive_threshold(self, outputs) -> None:\n",
    "    self.image_threshold.reset()\n",
    "    self.pixel_threshold.reset()\n",
    "    self._collect_outputs(self.image_threshold, self.pixel_threshold, outputs)\n",
    "    self.image_threshold.compute()\n",
    "    # if \"mask\" in outputs[0].keys() and \"anomaly_maps\" in outputs[0].keys():\n",
    "    #     self.pixel_threshold.compute()\n",
    "    # else:\n",
    "    #     self.pixel_threshold.value = self.image_threshold.value\n",
    "    self.pixel_threshold.value = self.image_threshold.value\n",
    "\n",
    "model._compute_adaptive_threshold = _compute_adaptive_threshold.__get__(model, model.__class__)"
   ]
  },
  {
   "cell_type": "code",
   "execution_count": null,
   "id": "5610570b-ff12-4578-97b3-a1162ba7c07b",
   "metadata": {
    "scrolled": true
   },
   "outputs": [],
   "source": [
    "trainer = Trainer(**config.trainer, logger=experiment_logger, callbacks=callbacks)\n",
    "logger.info(\"Training the model.\")\n",
    "trainer.fit(model=model, datamodule=datamodule)"
   ]
  },
  {
   "cell_type": "markdown",
   "id": "dfe222e3-fecb-48fa-9d29-2f0f44a36a7b",
   "metadata": {},
   "source": [
    "# Test"
   ]
  },
  {
   "cell_type": "code",
   "execution_count": null,
   "id": "bd8c8841-98a5-4009-a144-ead62ecde665",
   "metadata": {},
   "outputs": [],
   "source": [
    "weight_file_path = trainer.checkpoint_callback.best_model_path\n",
    "weight_file_path"
   ]
  },
  {
   "cell_type": "code",
   "execution_count": null,
   "id": "5021f1e8-c057-4c51-ac94-9fa8b6c0a633",
   "metadata": {},
   "outputs": [],
   "source": [
    "logger.info(\"Loading the best model weights.\")\n",
    "load_model_callback = LoadModelCallback(weights_path=weight_file_path)\n",
    "trainer.callbacks.insert(0, load_model_callback)\n",
    "\n",
    "_=trainer.test(model=model, datamodule=datamodule)"
   ]
  },
  {
   "cell_type": "markdown",
   "id": "c9cd8c29-cbb2-481f-bf8a-635daf085b1c",
   "metadata": {},
   "source": [
    "## Check"
   ]
  },
  {
   "cell_type": "code",
   "execution_count": null,
   "id": "a503f339-5abf-42b7-8dad-78160342be45",
   "metadata": {},
   "outputs": [],
   "source": [
    "model.model"
   ]
  },
  {
   "cell_type": "code",
   "execution_count": null,
   "id": "19f4c64e-e089-44b1-83a4-26e1ac8e299c",
   "metadata": {},
   "outputs": [],
   "source": [
    "for layer, dim, size in zip(model.model.layers, model.model.feature_extractor.out_dims, model.model.feature_extractor.out_sizes):\n",
    "    print(f\"{layer} [dim:{dim}, size:{size}]\")"
   ]
  },
  {
   "cell_type": "markdown",
   "id": "0442db5f-9f00-400d-8b2e-1749e9607655",
   "metadata": {},
   "source": [
    "## Appendix"
   ]
  },
  {
   "cell_type": "code",
   "execution_count": null,
   "id": "d587e870-9410-4996-a041-a09243517192",
   "metadata": {},
   "outputs": [],
   "source": [
    "import timm"
   ]
  },
  {
   "cell_type": "code",
   "execution_count": null,
   "id": "dcfe8313-434d-4c93-b3c3-4234bb11156a",
   "metadata": {},
   "outputs": [],
   "source": [
    "# timm.create_model(\n",
    "#     \"convnext_base_384_in22ft1k\",\n",
    "#     pretrained=True,\n",
    "#     features_only=True,\n",
    "#     exportable=True,\n",
    "# )"
   ]
  },
  {
   "cell_type": "code",
   "execution_count": null,
   "id": "214a92b1-e088-454c-8edd-075223ee8fe9",
   "metadata": {},
   "outputs": [],
   "source": [
    "timm.list_models(pretrained=True)"
   ]
  },
  {
   "cell_type": "code",
   "execution_count": null,
   "id": "e35b309f-bc98-4af5-b388-d79cfdfeff9f",
   "metadata": {},
   "outputs": [],
   "source": []
  }
 ],
 "metadata": {
  "kernelspec": {
   "display_name": "Python 3 (ipykernel)",
   "language": "python",
   "name": "python3"
  },
  "language_info": {
   "codemirror_mode": {
    "name": "ipython",
    "version": 3
   },
   "file_extension": ".py",
   "mimetype": "text/x-python",
   "name": "python",
   "nbconvert_exporter": "python",
   "pygments_lexer": "ipython3",
   "version": "3.9.18"
  }
 },
 "nbformat": 4,
 "nbformat_minor": 5
}
