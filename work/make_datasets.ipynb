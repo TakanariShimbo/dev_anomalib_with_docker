{
 "cells": [
  {
   "cell_type": "code",
   "execution_count": null,
   "id": "f93f7960-1d5d-43fb-9930-1e7f95c84b74",
   "metadata": {},
   "outputs": [],
   "source": [
    "import os\n",
    "\n",
    "import cv2\n",
    "import numpy as np\n",
    "import matplotlib.pyplot as plt"
   ]
  },
  {
   "cell_type": "code",
   "execution_count": null,
   "id": "2323ced8-1952-423a-9609-43e1ea897707",
   "metadata": {},
   "outputs": [],
   "source": [
    "original_dataset_dir_path = \"./datasets/Original/\"\n",
    "custom_dataset_dir_path = \"./datasets/Custom/\"\n",
    "\n",
    "category_name = \"my_bottle\"\n",
    "target_dir_path = \"test/bad/\"\n",
    "\n",
    "input_dir_path = f\"{original_dataset_dir_path}{category_name}/{target_dir_path}\"\n",
    "output_dir_path = f\"{custom_dataset_dir_path}{category_name}/{target_dir_path}\"\n",
    "input_dir_path, output_dir_path"
   ]
  },
  {
   "cell_type": "code",
   "execution_count": null,
   "id": "23e1bdf3-ae38-4ec8-9088-831e66f395cb",
   "metadata": {},
   "outputs": [],
   "source": [
    "if not os.path.exists(output_dir_path):\n",
    "    os.makedirs(output_dir_path)"
   ]
  },
  {
   "cell_type": "code",
   "execution_count": null,
   "id": "60bec2c5-bd30-4e64-87b4-e9f8f2339820",
   "metadata": {},
   "outputs": [],
   "source": [
    "img_labels = [f for f in os.listdir(input_dir_path) if os.path.isfile(os.path.join(input_dir_path, f))]\n",
    "len(img_labels), img_labels[0]"
   ]
  },
  {
   "cell_type": "code",
   "execution_count": null,
   "id": "9bec7a40-b0a1-4071-8d21-26ee500cc0d9",
   "metadata": {},
   "outputs": [],
   "source": [
    "input_img_path = f\"{input_dir_path}{img_labels[0]}\"\n",
    "test_img = cv2.imread(input_img_path, cv2.IMREAD_COLOR)"
   ]
  },
  {
   "cell_type": "code",
   "execution_count": null,
   "id": "23847a55-f2b7-4277-9238-6bcd432aff4e",
   "metadata": {},
   "outputs": [],
   "source": [
    "def convert_img(input_img):\n",
    "    img = cv2.resize(input_img, dsize=None, fx=0.2, fy=0.2)\n",
    "    height, width, channels = img.shape\n",
    "    output_img = img[:,width-height:,:]\n",
    "    return output_img"
   ]
  },
  {
   "cell_type": "code",
   "execution_count": null,
   "id": "c6d7e212-6042-4716-8e23-0bc1d3ced1e3",
   "metadata": {},
   "outputs": [],
   "source": [
    "plt.imshow(cv2.cvtColor(convert_img(test_img), cv2.COLOR_BGR2RGB))"
   ]
  },
  {
   "cell_type": "code",
   "execution_count": null,
   "id": "9a9767fb-b973-4d7a-8898-9d49ffec1b07",
   "metadata": {},
   "outputs": [],
   "source": [
    "cv2.resize(test_img, dsize=None, fx=0.1, fy=0.1).shape"
   ]
  },
  {
   "cell_type": "code",
   "execution_count": null,
   "id": "fc37f74d-968d-4a48-84be-32f55d13042d",
   "metadata": {},
   "outputs": [],
   "source": [
    "for idx, img_label in enumerate(img_labels):\n",
    "    input_img_path = f\"{input_dir_path}{img_label}\"\n",
    "    input_img = cv2.imread(input_img_path, cv2.IMREAD_COLOR)\n",
    "\n",
    "    output_img = convert_img(input_img)\n",
    "    output_img_label = f\"{idx:03}.png\"\n",
    "    \n",
    "    output_img_path = f\"{output_dir_path}{output_img_label}\"\n",
    "    cv2.imwrite(output_img_path, output_img)"
   ]
  },
  {
   "cell_type": "code",
   "execution_count": null,
   "id": "88d36c87-314f-4ea5-9407-03466162ca4e",
   "metadata": {},
   "outputs": [],
   "source": []
  }
 ],
 "metadata": {
  "kernelspec": {
   "display_name": "Python 3 (ipykernel)",
   "language": "python",
   "name": "python3"
  },
  "language_info": {
   "codemirror_mode": {
    "name": "ipython",
    "version": 3
   },
   "file_extension": ".py",
   "mimetype": "text/x-python",
   "name": "python",
   "nbconvert_exporter": "python",
   "pygments_lexer": "ipython3",
   "version": "3.9.18"
  }
 },
 "nbformat": 4,
 "nbformat_minor": 5
}
